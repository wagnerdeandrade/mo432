{
  "nbformat": 4,
  "nbformat_minor": 0,
  "metadata": {
    "colab": {
      "name": "exercicio1.ipynb",
      "provenance": [],
      "collapsed_sections": [],
      "authorship_tag": "ABX9TyPTmn7T5mdeoxzhSgOwa6nB",
      "include_colab_link": true
    },
    "kernelspec": {
      "name": "python3",
      "display_name": "Python 3"
    },
    "language_info": {
      "name": "python"
    }
  },
  "cells": [
    {
      "cell_type": "markdown",
      "metadata": {
        "id": "view-in-github",
        "colab_type": "text"
      },
      "source": [
        "<a href=\"https://colab.research.google.com/github/wagnerdeandrade/mo432/blob/main/exercicio1.ipynb\" target=\"_parent\"><img src=\"https://colab.research.google.com/assets/colab-badge.svg\" alt=\"Open In Colab\"/></a>"
      ]
    },
    {
      "cell_type": "markdown",
      "metadata": {
        "id": "iLt6Vo_ZJylq"
      },
      "source": [
        "Problema descrito em: https://www.ic.unicamp.br/~wainer/cursos/1s2021/432/exercicio1.html <br>\n",
        "<small>*Sempre que necessário farei referência aos nomes dos atributos conforme descritos em: https://archive.ics.uci.edu/ml/datasets/Solar+Flare*<small>"
      ]
    },
    {
      "cell_type": "markdown",
      "metadata": {
        "id": "DBSnguSYELkO"
      },
      "source": [
        "#1) Leia\n",
        "Lendo o arquivo e imprimindo as primeras e últimas linhas de seu conteúdo."
      ]
    },
    {
      "cell_type": "code",
      "metadata": {
        "id": "BciKj5k1CnUL"
      },
      "source": [
        "import pandas as pd\n",
        "import requests"
      ],
      "execution_count": 36,
      "outputs": []
    },
    {
      "cell_type": "code",
      "metadata": {
        "colab": {
          "base_uri": "https://localhost:8080/",
          "height": 407
        },
        "id": "XomzVEa7DNPo",
        "outputId": "79fe68cd-886a-40b2-a85e-61e6e0f030c9"
      },
      "source": [
        "url = \"https://www.ic.unicamp.br/~wainer/cursos/1s2021/432/solar-flare.csv\"\n",
        "\n",
        "solar_flare_df = pd.read_csv(url,sep=' ',skiprows=1,header=None,)\n",
        "\n",
        "solar_flare_df"
      ],
      "execution_count": 161,
      "outputs": [
        {
          "output_type": "execute_result",
          "data": {
            "text/html": [
              "<div>\n",
              "<style scoped>\n",
              "    .dataframe tbody tr th:only-of-type {\n",
              "        vertical-align: middle;\n",
              "    }\n",
              "\n",
              "    .dataframe tbody tr th {\n",
              "        vertical-align: top;\n",
              "    }\n",
              "\n",
              "    .dataframe thead th {\n",
              "        text-align: right;\n",
              "    }\n",
              "</style>\n",
              "<table border=\"1\" class=\"dataframe\">\n",
              "  <thead>\n",
              "    <tr style=\"text-align: right;\">\n",
              "      <th></th>\n",
              "      <th>0</th>\n",
              "      <th>1</th>\n",
              "      <th>2</th>\n",
              "      <th>3</th>\n",
              "      <th>4</th>\n",
              "      <th>5</th>\n",
              "      <th>6</th>\n",
              "      <th>7</th>\n",
              "      <th>8</th>\n",
              "      <th>9</th>\n",
              "      <th>10</th>\n",
              "      <th>11</th>\n",
              "      <th>12</th>\n",
              "    </tr>\n",
              "  </thead>\n",
              "  <tbody>\n",
              "    <tr>\n",
              "      <th>0</th>\n",
              "      <td>H</td>\n",
              "      <td>A</td>\n",
              "      <td>X</td>\n",
              "      <td>1</td>\n",
              "      <td>3</td>\n",
              "      <td>1</td>\n",
              "      <td>1</td>\n",
              "      <td>1</td>\n",
              "      <td>1</td>\n",
              "      <td>1</td>\n",
              "      <td>0</td>\n",
              "      <td>0</td>\n",
              "      <td>0</td>\n",
              "    </tr>\n",
              "    <tr>\n",
              "      <th>1</th>\n",
              "      <td>D</td>\n",
              "      <td>R</td>\n",
              "      <td>O</td>\n",
              "      <td>1</td>\n",
              "      <td>3</td>\n",
              "      <td>1</td>\n",
              "      <td>1</td>\n",
              "      <td>2</td>\n",
              "      <td>1</td>\n",
              "      <td>1</td>\n",
              "      <td>0</td>\n",
              "      <td>0</td>\n",
              "      <td>0</td>\n",
              "    </tr>\n",
              "    <tr>\n",
              "      <th>2</th>\n",
              "      <td>C</td>\n",
              "      <td>S</td>\n",
              "      <td>O</td>\n",
              "      <td>1</td>\n",
              "      <td>3</td>\n",
              "      <td>1</td>\n",
              "      <td>1</td>\n",
              "      <td>2</td>\n",
              "      <td>1</td>\n",
              "      <td>1</td>\n",
              "      <td>0</td>\n",
              "      <td>0</td>\n",
              "      <td>0</td>\n",
              "    </tr>\n",
              "    <tr>\n",
              "      <th>3</th>\n",
              "      <td>H</td>\n",
              "      <td>R</td>\n",
              "      <td>X</td>\n",
              "      <td>1</td>\n",
              "      <td>2</td>\n",
              "      <td>1</td>\n",
              "      <td>1</td>\n",
              "      <td>1</td>\n",
              "      <td>1</td>\n",
              "      <td>1</td>\n",
              "      <td>0</td>\n",
              "      <td>0</td>\n",
              "      <td>0</td>\n",
              "    </tr>\n",
              "    <tr>\n",
              "      <th>4</th>\n",
              "      <td>H</td>\n",
              "      <td>S</td>\n",
              "      <td>X</td>\n",
              "      <td>1</td>\n",
              "      <td>1</td>\n",
              "      <td>1</td>\n",
              "      <td>1</td>\n",
              "      <td>2</td>\n",
              "      <td>1</td>\n",
              "      <td>1</td>\n",
              "      <td>0</td>\n",
              "      <td>0</td>\n",
              "      <td>0</td>\n",
              "    </tr>\n",
              "    <tr>\n",
              "      <th>...</th>\n",
              "      <td>...</td>\n",
              "      <td>...</td>\n",
              "      <td>...</td>\n",
              "      <td>...</td>\n",
              "      <td>...</td>\n",
              "      <td>...</td>\n",
              "      <td>...</td>\n",
              "      <td>...</td>\n",
              "      <td>...</td>\n",
              "      <td>...</td>\n",
              "      <td>...</td>\n",
              "      <td>...</td>\n",
              "      <td>...</td>\n",
              "    </tr>\n",
              "    <tr>\n",
              "      <th>1061</th>\n",
              "      <td>H</td>\n",
              "      <td>S</td>\n",
              "      <td>X</td>\n",
              "      <td>1</td>\n",
              "      <td>2</td>\n",
              "      <td>1</td>\n",
              "      <td>1</td>\n",
              "      <td>1</td>\n",
              "      <td>1</td>\n",
              "      <td>1</td>\n",
              "      <td>0</td>\n",
              "      <td>0</td>\n",
              "      <td>0</td>\n",
              "    </tr>\n",
              "    <tr>\n",
              "      <th>1062</th>\n",
              "      <td>H</td>\n",
              "      <td>S</td>\n",
              "      <td>X</td>\n",
              "      <td>2</td>\n",
              "      <td>2</td>\n",
              "      <td>1</td>\n",
              "      <td>1</td>\n",
              "      <td>2</td>\n",
              "      <td>1</td>\n",
              "      <td>1</td>\n",
              "      <td>0</td>\n",
              "      <td>0</td>\n",
              "      <td>0</td>\n",
              "    </tr>\n",
              "    <tr>\n",
              "      <th>1063</th>\n",
              "      <td>C</td>\n",
              "      <td>S</td>\n",
              "      <td>O</td>\n",
              "      <td>1</td>\n",
              "      <td>2</td>\n",
              "      <td>1</td>\n",
              "      <td>2</td>\n",
              "      <td>2</td>\n",
              "      <td>1</td>\n",
              "      <td>1</td>\n",
              "      <td>0</td>\n",
              "      <td>0</td>\n",
              "      <td>0</td>\n",
              "    </tr>\n",
              "    <tr>\n",
              "      <th>1064</th>\n",
              "      <td>H</td>\n",
              "      <td>R</td>\n",
              "      <td>X</td>\n",
              "      <td>1</td>\n",
              "      <td>2</td>\n",
              "      <td>1</td>\n",
              "      <td>1</td>\n",
              "      <td>2</td>\n",
              "      <td>1</td>\n",
              "      <td>1</td>\n",
              "      <td>0</td>\n",
              "      <td>0</td>\n",
              "      <td>0</td>\n",
              "    </tr>\n",
              "    <tr>\n",
              "      <th>1065</th>\n",
              "      <td>B</td>\n",
              "      <td>X</td>\n",
              "      <td>O</td>\n",
              "      <td>1</td>\n",
              "      <td>1</td>\n",
              "      <td>1</td>\n",
              "      <td>1</td>\n",
              "      <td>2</td>\n",
              "      <td>1</td>\n",
              "      <td>1</td>\n",
              "      <td>0</td>\n",
              "      <td>0</td>\n",
              "      <td>0</td>\n",
              "    </tr>\n",
              "  </tbody>\n",
              "</table>\n",
              "<p>1066 rows × 13 columns</p>\n",
              "</div>"
            ],
            "text/plain": [
              "     0  1  2   3   4   5   6   7   8   9   10  11  12\n",
              "0     H  A  X   1   3   1   1   1   1   1   0   0   0\n",
              "1     D  R  O   1   3   1   1   2   1   1   0   0   0\n",
              "2     C  S  O   1   3   1   1   2   1   1   0   0   0\n",
              "3     H  R  X   1   2   1   1   1   1   1   0   0   0\n",
              "4     H  S  X   1   1   1   1   2   1   1   0   0   0\n",
              "...  .. .. ..  ..  ..  ..  ..  ..  ..  ..  ..  ..  ..\n",
              "1061  H  S  X   1   2   1   1   1   1   1   0   0   0\n",
              "1062  H  S  X   2   2   1   1   2   1   1   0   0   0\n",
              "1063  C  S  O   1   2   1   2   2   1   1   0   0   0\n",
              "1064  H  R  X   1   2   1   1   2   1   1   0   0   0\n",
              "1065  B  X  O   1   1   1   1   2   1   1   0   0   0\n",
              "\n",
              "[1066 rows x 13 columns]"
            ]
          },
          "metadata": {
            "tags": []
          },
          "execution_count": 161
        }
      ]
    },
    {
      "cell_type": "code",
      "metadata": {
        "colab": {
          "base_uri": "https://localhost:8080/"
        },
        "id": "dmpZO4hcKYKx",
        "outputId": "de40d3ba-9e24-4f29-837c-12f3abc5f87a"
      },
      "source": [
        "# debug\n",
        "\n",
        "\n",
        "#restolho = solar_flare_df[solar_flare_df[10] > 0]\n",
        "#restolho\n",
        "\n",
        "column = solar_flare_df[10]\n",
        "max_value = column.max()\n",
        "print(max_value)"
      ],
      "execution_count": 166,
      "outputs": [
        {
          "output_type": "stream",
          "text": [
            "8\n"
          ],
          "name": "stdout"
        }
      ]
    },
    {
      "cell_type": "markdown",
      "metadata": {
        "id": "bsnUnKeJPcL8"
      },
      "source": [
        "#2) Converta os atributos categóricos para numéricos\n",
        "- Convertendo todos os atributos categóricos (colunas 0,1 e 2 do dataframe original) para numéricos usando one-hot-enconder;\n",
        "- Concatenando as dummy variables ao conjunto principal de dados enquanto jogamos fora os dados categóricos que eles representam;\n",
        "- Resetando o header do dataframe pois este conjunto de dados não tem descrição na primeira coluna;\n",
        "- e, imprimindo o inicio e o fim desse conjunto de dados final."
      ]
    },
    {
      "cell_type": "code",
      "metadata": {
        "id": "gVIE8r6eGTYg"
      },
      "source": [
        "class_dummies = pd.get_dummies(solar_flare_df[0])\n",
        "large_spot_sz_dummies = pd.get_dummies(solar_flare_df[1])\n",
        "spot_distr_dummies = pd.get_dummies(solar_flare_df[2])"
      ],
      "execution_count": 69,
      "outputs": []
    },
    {
      "cell_type": "code",
      "metadata": {
        "id": "zhT9xAD3QnFb"
      },
      "source": [
        "numeric_solar_flare_df = pd.concat([class_dummies, \n",
        "                                    large_spot_sz_dummies, \n",
        "                                    spot_distr_dummies, \n",
        "                                    solar_flare_df.drop(columns=[0, 1,2])\n",
        "                                    ], axis=1)"
      ],
      "execution_count": 70,
      "outputs": []
    },
    {
      "cell_type": "code",
      "metadata": {
        "id": "arQZWPjIa5cj"
      },
      "source": [
        "numeric_solar_flare_df.columns = [x for x in range(0, len(numeric_solar_flare_df.columns))]"
      ],
      "execution_count": 77,
      "outputs": []
    },
    {
      "cell_type": "code",
      "metadata": {
        "colab": {
          "base_uri": "https://localhost:8080/",
          "height": 407
        },
        "id": "8Nwmzuf8Xd4G",
        "outputId": "61422b1c-dd00-47b8-9a03-102bd44757b8"
      },
      "source": [
        "numeric_solar_flare_df"
      ],
      "execution_count": 78,
      "outputs": [
        {
          "output_type": "execute_result",
          "data": {
            "text/html": [
              "<div>\n",
              "<style scoped>\n",
              "    .dataframe tbody tr th:only-of-type {\n",
              "        vertical-align: middle;\n",
              "    }\n",
              "\n",
              "    .dataframe tbody tr th {\n",
              "        vertical-align: top;\n",
              "    }\n",
              "\n",
              "    .dataframe thead th {\n",
              "        text-align: right;\n",
              "    }\n",
              "</style>\n",
              "<table border=\"1\" class=\"dataframe\">\n",
              "  <thead>\n",
              "    <tr style=\"text-align: right;\">\n",
              "      <th></th>\n",
              "      <th>0</th>\n",
              "      <th>1</th>\n",
              "      <th>2</th>\n",
              "      <th>3</th>\n",
              "      <th>4</th>\n",
              "      <th>5</th>\n",
              "      <th>6</th>\n",
              "      <th>7</th>\n",
              "      <th>8</th>\n",
              "      <th>9</th>\n",
              "      <th>10</th>\n",
              "      <th>11</th>\n",
              "      <th>12</th>\n",
              "      <th>13</th>\n",
              "      <th>14</th>\n",
              "      <th>15</th>\n",
              "      <th>16</th>\n",
              "      <th>17</th>\n",
              "      <th>18</th>\n",
              "      <th>19</th>\n",
              "      <th>20</th>\n",
              "      <th>21</th>\n",
              "      <th>22</th>\n",
              "      <th>23</th>\n",
              "      <th>24</th>\n",
              "      <th>25</th>\n",
              "    </tr>\n",
              "  </thead>\n",
              "  <tbody>\n",
              "    <tr>\n",
              "      <th>0</th>\n",
              "      <td>0</td>\n",
              "      <td>0</td>\n",
              "      <td>0</td>\n",
              "      <td>0</td>\n",
              "      <td>0</td>\n",
              "      <td>1</td>\n",
              "      <td>1</td>\n",
              "      <td>0</td>\n",
              "      <td>0</td>\n",
              "      <td>0</td>\n",
              "      <td>0</td>\n",
              "      <td>0</td>\n",
              "      <td>0</td>\n",
              "      <td>0</td>\n",
              "      <td>0</td>\n",
              "      <td>1</td>\n",
              "      <td>1</td>\n",
              "      <td>3</td>\n",
              "      <td>1</td>\n",
              "      <td>1</td>\n",
              "      <td>1</td>\n",
              "      <td>1</td>\n",
              "      <td>1</td>\n",
              "      <td>0</td>\n",
              "      <td>0</td>\n",
              "      <td>0</td>\n",
              "    </tr>\n",
              "    <tr>\n",
              "      <th>1</th>\n",
              "      <td>0</td>\n",
              "      <td>0</td>\n",
              "      <td>1</td>\n",
              "      <td>0</td>\n",
              "      <td>0</td>\n",
              "      <td>0</td>\n",
              "      <td>0</td>\n",
              "      <td>0</td>\n",
              "      <td>0</td>\n",
              "      <td>1</td>\n",
              "      <td>0</td>\n",
              "      <td>0</td>\n",
              "      <td>0</td>\n",
              "      <td>0</td>\n",
              "      <td>1</td>\n",
              "      <td>0</td>\n",
              "      <td>1</td>\n",
              "      <td>3</td>\n",
              "      <td>1</td>\n",
              "      <td>1</td>\n",
              "      <td>2</td>\n",
              "      <td>1</td>\n",
              "      <td>1</td>\n",
              "      <td>0</td>\n",
              "      <td>0</td>\n",
              "      <td>0</td>\n",
              "    </tr>\n",
              "    <tr>\n",
              "      <th>2</th>\n",
              "      <td>0</td>\n",
              "      <td>1</td>\n",
              "      <td>0</td>\n",
              "      <td>0</td>\n",
              "      <td>0</td>\n",
              "      <td>0</td>\n",
              "      <td>0</td>\n",
              "      <td>0</td>\n",
              "      <td>0</td>\n",
              "      <td>0</td>\n",
              "      <td>1</td>\n",
              "      <td>0</td>\n",
              "      <td>0</td>\n",
              "      <td>0</td>\n",
              "      <td>1</td>\n",
              "      <td>0</td>\n",
              "      <td>1</td>\n",
              "      <td>3</td>\n",
              "      <td>1</td>\n",
              "      <td>1</td>\n",
              "      <td>2</td>\n",
              "      <td>1</td>\n",
              "      <td>1</td>\n",
              "      <td>0</td>\n",
              "      <td>0</td>\n",
              "      <td>0</td>\n",
              "    </tr>\n",
              "    <tr>\n",
              "      <th>3</th>\n",
              "      <td>0</td>\n",
              "      <td>0</td>\n",
              "      <td>0</td>\n",
              "      <td>0</td>\n",
              "      <td>0</td>\n",
              "      <td>1</td>\n",
              "      <td>0</td>\n",
              "      <td>0</td>\n",
              "      <td>0</td>\n",
              "      <td>1</td>\n",
              "      <td>0</td>\n",
              "      <td>0</td>\n",
              "      <td>0</td>\n",
              "      <td>0</td>\n",
              "      <td>0</td>\n",
              "      <td>1</td>\n",
              "      <td>1</td>\n",
              "      <td>2</td>\n",
              "      <td>1</td>\n",
              "      <td>1</td>\n",
              "      <td>1</td>\n",
              "      <td>1</td>\n",
              "      <td>1</td>\n",
              "      <td>0</td>\n",
              "      <td>0</td>\n",
              "      <td>0</td>\n",
              "    </tr>\n",
              "    <tr>\n",
              "      <th>4</th>\n",
              "      <td>0</td>\n",
              "      <td>0</td>\n",
              "      <td>0</td>\n",
              "      <td>0</td>\n",
              "      <td>0</td>\n",
              "      <td>1</td>\n",
              "      <td>0</td>\n",
              "      <td>0</td>\n",
              "      <td>0</td>\n",
              "      <td>0</td>\n",
              "      <td>1</td>\n",
              "      <td>0</td>\n",
              "      <td>0</td>\n",
              "      <td>0</td>\n",
              "      <td>0</td>\n",
              "      <td>1</td>\n",
              "      <td>1</td>\n",
              "      <td>1</td>\n",
              "      <td>1</td>\n",
              "      <td>1</td>\n",
              "      <td>2</td>\n",
              "      <td>1</td>\n",
              "      <td>1</td>\n",
              "      <td>0</td>\n",
              "      <td>0</td>\n",
              "      <td>0</td>\n",
              "    </tr>\n",
              "    <tr>\n",
              "      <th>...</th>\n",
              "      <td>...</td>\n",
              "      <td>...</td>\n",
              "      <td>...</td>\n",
              "      <td>...</td>\n",
              "      <td>...</td>\n",
              "      <td>...</td>\n",
              "      <td>...</td>\n",
              "      <td>...</td>\n",
              "      <td>...</td>\n",
              "      <td>...</td>\n",
              "      <td>...</td>\n",
              "      <td>...</td>\n",
              "      <td>...</td>\n",
              "      <td>...</td>\n",
              "      <td>...</td>\n",
              "      <td>...</td>\n",
              "      <td>...</td>\n",
              "      <td>...</td>\n",
              "      <td>...</td>\n",
              "      <td>...</td>\n",
              "      <td>...</td>\n",
              "      <td>...</td>\n",
              "      <td>...</td>\n",
              "      <td>...</td>\n",
              "      <td>...</td>\n",
              "      <td>...</td>\n",
              "    </tr>\n",
              "    <tr>\n",
              "      <th>1061</th>\n",
              "      <td>0</td>\n",
              "      <td>0</td>\n",
              "      <td>0</td>\n",
              "      <td>0</td>\n",
              "      <td>0</td>\n",
              "      <td>1</td>\n",
              "      <td>0</td>\n",
              "      <td>0</td>\n",
              "      <td>0</td>\n",
              "      <td>0</td>\n",
              "      <td>1</td>\n",
              "      <td>0</td>\n",
              "      <td>0</td>\n",
              "      <td>0</td>\n",
              "      <td>0</td>\n",
              "      <td>1</td>\n",
              "      <td>1</td>\n",
              "      <td>2</td>\n",
              "      <td>1</td>\n",
              "      <td>1</td>\n",
              "      <td>1</td>\n",
              "      <td>1</td>\n",
              "      <td>1</td>\n",
              "      <td>0</td>\n",
              "      <td>0</td>\n",
              "      <td>0</td>\n",
              "    </tr>\n",
              "    <tr>\n",
              "      <th>1062</th>\n",
              "      <td>0</td>\n",
              "      <td>0</td>\n",
              "      <td>0</td>\n",
              "      <td>0</td>\n",
              "      <td>0</td>\n",
              "      <td>1</td>\n",
              "      <td>0</td>\n",
              "      <td>0</td>\n",
              "      <td>0</td>\n",
              "      <td>0</td>\n",
              "      <td>1</td>\n",
              "      <td>0</td>\n",
              "      <td>0</td>\n",
              "      <td>0</td>\n",
              "      <td>0</td>\n",
              "      <td>1</td>\n",
              "      <td>2</td>\n",
              "      <td>2</td>\n",
              "      <td>1</td>\n",
              "      <td>1</td>\n",
              "      <td>2</td>\n",
              "      <td>1</td>\n",
              "      <td>1</td>\n",
              "      <td>0</td>\n",
              "      <td>0</td>\n",
              "      <td>0</td>\n",
              "    </tr>\n",
              "    <tr>\n",
              "      <th>1063</th>\n",
              "      <td>0</td>\n",
              "      <td>1</td>\n",
              "      <td>0</td>\n",
              "      <td>0</td>\n",
              "      <td>0</td>\n",
              "      <td>0</td>\n",
              "      <td>0</td>\n",
              "      <td>0</td>\n",
              "      <td>0</td>\n",
              "      <td>0</td>\n",
              "      <td>1</td>\n",
              "      <td>0</td>\n",
              "      <td>0</td>\n",
              "      <td>0</td>\n",
              "      <td>1</td>\n",
              "      <td>0</td>\n",
              "      <td>1</td>\n",
              "      <td>2</td>\n",
              "      <td>1</td>\n",
              "      <td>2</td>\n",
              "      <td>2</td>\n",
              "      <td>1</td>\n",
              "      <td>1</td>\n",
              "      <td>0</td>\n",
              "      <td>0</td>\n",
              "      <td>0</td>\n",
              "    </tr>\n",
              "    <tr>\n",
              "      <th>1064</th>\n",
              "      <td>0</td>\n",
              "      <td>0</td>\n",
              "      <td>0</td>\n",
              "      <td>0</td>\n",
              "      <td>0</td>\n",
              "      <td>1</td>\n",
              "      <td>0</td>\n",
              "      <td>0</td>\n",
              "      <td>0</td>\n",
              "      <td>1</td>\n",
              "      <td>0</td>\n",
              "      <td>0</td>\n",
              "      <td>0</td>\n",
              "      <td>0</td>\n",
              "      <td>0</td>\n",
              "      <td>1</td>\n",
              "      <td>1</td>\n",
              "      <td>2</td>\n",
              "      <td>1</td>\n",
              "      <td>1</td>\n",
              "      <td>2</td>\n",
              "      <td>1</td>\n",
              "      <td>1</td>\n",
              "      <td>0</td>\n",
              "      <td>0</td>\n",
              "      <td>0</td>\n",
              "    </tr>\n",
              "    <tr>\n",
              "      <th>1065</th>\n",
              "      <td>1</td>\n",
              "      <td>0</td>\n",
              "      <td>0</td>\n",
              "      <td>0</td>\n",
              "      <td>0</td>\n",
              "      <td>0</td>\n",
              "      <td>0</td>\n",
              "      <td>0</td>\n",
              "      <td>0</td>\n",
              "      <td>0</td>\n",
              "      <td>0</td>\n",
              "      <td>1</td>\n",
              "      <td>0</td>\n",
              "      <td>0</td>\n",
              "      <td>1</td>\n",
              "      <td>0</td>\n",
              "      <td>1</td>\n",
              "      <td>1</td>\n",
              "      <td>1</td>\n",
              "      <td>1</td>\n",
              "      <td>2</td>\n",
              "      <td>1</td>\n",
              "      <td>1</td>\n",
              "      <td>0</td>\n",
              "      <td>0</td>\n",
              "      <td>0</td>\n",
              "    </tr>\n",
              "  </tbody>\n",
              "</table>\n",
              "<p>1066 rows × 26 columns</p>\n",
              "</div>"
            ],
            "text/plain": [
              "      0   1   2   3   4   5   6   7   8   ...  17  18  19  20  21  22  23  24  25\n",
              "0      0   0   0   0   0   1   1   0   0  ...   3   1   1   1   1   1   0   0   0\n",
              "1      0   0   1   0   0   0   0   0   0  ...   3   1   1   2   1   1   0   0   0\n",
              "2      0   1   0   0   0   0   0   0   0  ...   3   1   1   2   1   1   0   0   0\n",
              "3      0   0   0   0   0   1   0   0   0  ...   2   1   1   1   1   1   0   0   0\n",
              "4      0   0   0   0   0   1   0   0   0  ...   1   1   1   2   1   1   0   0   0\n",
              "...   ..  ..  ..  ..  ..  ..  ..  ..  ..  ...  ..  ..  ..  ..  ..  ..  ..  ..  ..\n",
              "1061   0   0   0   0   0   1   0   0   0  ...   2   1   1   1   1   1   0   0   0\n",
              "1062   0   0   0   0   0   1   0   0   0  ...   2   1   1   2   1   1   0   0   0\n",
              "1063   0   1   0   0   0   0   0   0   0  ...   2   1   2   2   1   1   0   0   0\n",
              "1064   0   0   0   0   0   1   0   0   0  ...   2   1   1   2   1   1   0   0   0\n",
              "1065   1   0   0   0   0   0   0   0   0  ...   1   1   1   2   1   1   0   0   0\n",
              "\n",
              "[1066 rows x 26 columns]"
            ]
          },
          "metadata": {
            "tags": []
          },
          "execution_count": 78
        }
      ]
    },
    {
      "cell_type": "markdown",
      "metadata": {
        "id": "hGXoAdxPc_1Z"
      },
      "source": [
        "#3) Centering and scaling\n",
        "Faca o centering and standard scaling para todos os atributos de entrada (convertidos para numéricos)"
      ]
    },
    {
      "cell_type": "code",
      "metadata": {
        "id": "W0coVUPzdDs5"
      },
      "source": [
        "from sklearn import preprocessing"
      ],
      "execution_count": 41,
      "outputs": []
    },
    {
      "cell_type": "code",
      "metadata": {
        "id": "6-bTpA_weR8m"
      },
      "source": [
        "cs_numeric_solar_flare_nparray = preprocessing.scale(numeric_solar_flare_df)"
      ],
      "execution_count": 89,
      "outputs": []
    },
    {
      "cell_type": "markdown",
      "metadata": {
        "id": "FD_GS1z1tESb"
      },
      "source": [
        "#4) PCA"
      ]
    },
    {
      "cell_type": "markdown",
      "metadata": {
        "id": "8qlTHxqXQi6C"
      },
      "source": [
        "## 4.1) Separando predictors de target\n",
        "Apenas os predictors são usados para fazer a análise de redução de dimensionalidade por PCA"
      ]
    },
    {
      "cell_type": "code",
      "metadata": {
        "id": "lFsQr2VEQ4JD"
      },
      "source": [
        "cs_numeric_solar_flare_predictors_nparray = cs_numeric_solar_flare_nparray[:, :-3]\n",
        "cs_numeric_solar_flare_targets_nparray = cs_numeric_solar_flare_nparray[:, -3:]"
      ],
      "execution_count": 118,
      "outputs": []
    },
    {
      "cell_type": "markdown",
      "metadata": {
        "id": "GcoauHFofKQX"
      },
      "source": [
        "## 4.2)\n",
        "- Reduzindo a dimensionalidade dos atributos usando PCA vemos que enquanto mantemos 90% da variância dos dados temos 13 dimensões restantes"
      ]
    },
    {
      "cell_type": "code",
      "metadata": {
        "colab": {
          "base_uri": "https://localhost:8080/"
        },
        "id": "PMJeL_KwreG2",
        "outputId": "03f94bb4-12c1-45ac-ea6a-74fedf5995ea"
      },
      "source": [
        "from sklearn.decomposition import PCA\n",
        "\n",
        "pca = PCA(.9)\n",
        "X_pca_numeric_solar_flare_predictors_nparray = pca.fit_transform(cs_numeric_solar_flare_predictors_nparray)\n",
        "\n",
        "pca.n_components_"
      ],
      "execution_count": 119,
      "outputs": [
        {
          "output_type": "execute_result",
          "data": {
            "text/plain": [
              "13"
            ]
          },
          "metadata": {
            "tags": []
          },
          "execution_count": 119
        }
      ]
    },
    {
      "cell_type": "markdown",
      "metadata": {
        "id": "QwQ5LkqGkWds"
      },
      "source": [
        "- Com o Scree Plot é possível perceber que usando apenas 5 componentes a variância se mantém bastante significativa e que a diferença entre usar 11, 12 ou 13 componentes seria de fato muito baixa e portanto, usar 11 componentes poderia trazer um melhor resultado em termos de tempo de execução computacional para o modelo de regressão. "
      ]
    },
    {
      "cell_type": "code",
      "metadata": {
        "colab": {
          "base_uri": "https://localhost:8080/",
          "height": 265
        },
        "id": "3dIsKiWMkjf4",
        "outputId": "3a4352bf-0a26-4229-acdb-844dfe768cb9"
      },
      "source": [
        "import numpy as np\n",
        "from matplotlib import pyplot as plt\n",
        "\n",
        "pca_scree_plot_values = np.arange(pca.n_components_)\n",
        "plt.plot(pca_scree_plot_values, pca.explained_variance_ratio_, 'ro-')\n",
        "plt.show()"
      ],
      "execution_count": 120,
      "outputs": [
        {
          "output_type": "display_data",
          "data": {
            "image/png": "[encoded data removed]",
            "text/plain": [
              "<Figure size 432x288 with 1 Axes>"
            ]
          },
          "metadata": {
            "tags": [],
            "needs_background": "light"
          }
        }
      ]
    },
    {
      "cell_type": "markdown",
      "metadata": {
        "id": "2gmx87qwth9H"
      },
      "source": [
        "#5) Validação cruzada e regressão linear\n",
        "Fazendo 5 repetições de uma validação cruzada aleatória com split de 70/30 (70% treino 30% teste).\n",
        "\n",
        "Treine 3 regressões lineares, uma para cada um dos 3 atributos de saída.\n",
        "\n",
        "regressão linear do Sklearn https://scikit-learn.org/stable/modules/generated/sklearn.linear_model.LinearRegression.html\n",
        "\n",
        "Treine no conjunto de treino e meça o RMSE e o MAE deste modelo treinado no conjunto de teste correspondente.\n",
        "\n",
        "Imprima o RMSE e o MAE no conjunto de testes de cada uma das 5 repetições. Imprima também a média do RMSE e do MAE."
      ]
    },
    {
      "cell_type": "code",
      "metadata": {
        "colab": {
          "base_uri": "https://localhost:8080/"
        },
        "id": "ToPM4Y1dkVgn",
        "outputId": "90eab495-c8fa-446f-99f9-e8f3ee2f07a1"
      },
      "source": [
        "from sklearn.metrics import mean_squared_error\n",
        "from sklearn.metrics import mean_absolute_error\n",
        "from sklearn.model_selection import train_test_split\n",
        "from sklearn.linear_model import LinearRegression\n",
        "\n",
        "target_data_meaning = {0: \"C class\", 1: \"M-class\", 2: \"X-class\"}\n",
        "repetitions_n = 5 \n",
        "\n",
        "for t_class in range(0, np.shape(cs_numeric_solar_flare_targets_nparray)[1]):\n",
        "  print(\"\\nTarget \" + str(target_data_meaning[t_class]))\n",
        "  rmse_sum = 0\n",
        "  mae_sum = 0\n",
        "\n",
        "  for i in range(0, repetitions_n):\n",
        "\n",
        "    # Split the data on 70/30 proportion - 70 % for train, 30 to test\n",
        "    X_train, X_test, y_train, y_test = train_test_split(\n",
        "                                                        X_pca_numeric_solar_flare_predictors_nparray,\n",
        "                                                        cs_numeric_solar_flare_targets_nparray[:,0],\n",
        "                                                        train_size=0.7\n",
        "                                                      )\n",
        "\n",
        "    # Train the linear regression with the selected trainning data\n",
        "    trained_regression_model = LinearRegression().fit(X_train, y_train)\n",
        "\n",
        "    # Test the resulting model\n",
        "    y_predicted = trained_regression_model.predict(X_test)\n",
        "\n",
        "    # Calculate the MAE and RMSE values \n",
        "    print(\"Repetition \" + str(i) + \":\")\n",
        "    rmse = mean_squared_error(y_test, y_predicted, squared=False)\n",
        "    mae = mean_absolute_error(y_test, y_predicted)\n",
        "    print(\"    RMSE = \" + str(rmse))\n",
        "    print(\"    MAE  = \" + str(mae))\n",
        "    rmse_sum += rmse \n",
        "    mae_sum += mae\n",
        "\n",
        "  print(\"\\nMean RMSE = \" + str(rmse_sum/repetitions_n))\n",
        "  print(\"Mean MAE  = \" + str(mae_sum/repetitions_n))\n",
        "  print(\"-----------------------------------------------\")\n",
        "  "
      ],
      "execution_count": 170,
      "outputs": [
        {
          "output_type": "stream",
          "text": [
            "\n",
            "Target C class\n",
            "Repetition 0:\n",
            "    RMSE = 0.8206004092372198\n",
            "    MAE  = 0.48528580670239174\n",
            "Repetition 1:\n",
            "    RMSE = 0.8870287059599371\n",
            "    MAE  = 0.4820738176761747\n",
            "Repetition 2:\n",
            "    RMSE = 0.869042132016754\n",
            "    MAE  = 0.4964573914326481\n",
            "Repetition 3:\n",
            "    RMSE = 0.9711426839795428\n",
            "    MAE  = 0.5452237914866036\n",
            "Repetition 4:\n",
            "    RMSE = 0.965263120278425\n",
            "    MAE  = 0.5245591235941152\n",
            "\n",
            "Mean RMSE = 0.9026154102943756\n",
            "Mean MAE  = 0.5067199861783868\n",
            "-----------------------------------------------\n",
            "\n",
            "Target M-class\n",
            "Repetition 0:\n",
            "    RMSE = 1.0176690040644898\n",
            "    MAE  = 0.5402340388603764\n",
            "Repetition 1:\n",
            "    RMSE = 0.8277263734348751\n",
            "    MAE  = 0.44461998376248274\n",
            "Repetition 2:\n",
            "    RMSE = 0.8953585079969216\n",
            "    MAE  = 0.4849353624053476\n",
            "Repetition 3:\n",
            "    RMSE = 1.0146065336949919\n",
            "    MAE  = 0.5313890574205666\n",
            "Repetition 4:\n",
            "    RMSE = 0.8997810658260019\n",
            "    MAE  = 0.5135486217359427\n",
            "\n",
            "Mean RMSE = 0.931028297003456\n",
            "Mean MAE  = 0.5029454128369432\n",
            "-----------------------------------------------\n",
            "\n",
            "Target X-class\n",
            "Repetition 0:\n",
            "    RMSE = 0.9906425035300429\n",
            "    MAE  = 0.5249164382358036\n",
            "Repetition 1:\n",
            "    RMSE = 0.8838546357458454\n",
            "    MAE  = 0.5123005340441982\n",
            "Repetition 2:\n",
            "    RMSE = 0.848693366607049\n",
            "    MAE  = 0.45955635068493894\n",
            "Repetition 3:\n",
            "    RMSE = 0.9108952349070834\n",
            "    MAE  = 0.5186175372739368\n",
            "Repetition 4:\n",
            "    RMSE = 0.929187261636737\n",
            "    MAE  = 0.5037698133680492\n",
            "\n",
            "Mean RMSE = 0.9126546004853516\n",
            "Mean MAE  = 0.5038321347213853\n",
            "-----------------------------------------------\n"
          ],
          "name": "stdout"
        }
      ]
    },
    {
      "cell_type": "code",
      "metadata": {
        "id": "MTSLL5rK39ud"
      },
      "source": [
        ""
      ],
      "execution_count": null,
      "outputs": []
    }
  ]
}