{
 "cells": [
  {
   "cell_type": "markdown",
   "metadata": {
    "id": "hltghrALPa3j"
   },
   "source": [
    "# Pré processamento\n",
    "* Leia o arquivo Bias_correction_ucl.csv"
   ]
  },
  {
   "cell_type": "code",
   "execution_count": 1,
   "metadata": {
    "id": "ECGurZLNKFbP"
   },
   "outputs": [],
   "source": [
    "import pandas as pd\n",
    "import warnings\n",
    "\n",
    "warnings.filterwarnings('ignore')\n",
    "\n",
    "url = \"https://archive.ics.uci.edu/ml/machine-learning-databases/00514/Bias_correction_ucl.csv\"\n",
    "\n",
    "original_ko_temp_forecast_df = pd.read_csv(url)"
   ]
  },
  {
   "cell_type": "markdown",
   "metadata": {
    "id": "e8dfkCypPk96"
   },
   "source": [
    "* Remova a coluna \"Next_Tmin\".\n",
    "* Remova a coluna Date"
   ]
  },
  {
   "cell_type": "code",
   "execution_count": 2,
   "metadata": {
    "id": "Y5zmsRZKNaKa"
   },
   "outputs": [],
   "source": [
    "ko_temp_forecast_df = original_ko_temp_forecast_df.drop(['Next_Tmin', 'Date'], axis=1)"
   ]
  },
  {
   "cell_type": "markdown",
   "metadata": {
    "id": "gIYx_ClxRYvu"
   },
   "source": [
    "* Remova as linhas que tem valor faltante. Das 7752 linhas originais sobram 7588"
   ]
  },
  {
   "cell_type": "code",
   "execution_count": 3,
   "metadata": {
    "colab": {
     "base_uri": "https://localhost:8080/"
    },
    "id": "cKb0X7-aRLPD",
    "outputId": "cac0b0df-ac01-4b0b-b7a5-5ecc155de093"
   },
   "outputs": [
    {
     "data": {
      "text/plain": [
       "(7752, 23)"
      ]
     },
     "execution_count": 3,
     "metadata": {},
     "output_type": "execute_result"
    }
   ],
   "source": [
    "ko_temp_forecast_df.shape"
   ]
  },
  {
   "cell_type": "code",
   "execution_count": 4,
   "metadata": {
    "id": "_fpGHT7OQ-0g"
   },
   "outputs": [],
   "source": [
    "ko_temp_forecast_df.dropna(inplace=True)"
   ]
  },
  {
   "cell_type": "code",
   "execution_count": 5,
   "metadata": {
    "colab": {
     "base_uri": "https://localhost:8080/"
    },
    "id": "yLzKjdWkRRni",
    "outputId": "fa7abe8f-cb77-4c96-d7a8-cda9dc61199c"
   },
   "outputs": [
    {
     "data": {
      "text/plain": [
       "(7588, 23)"
      ]
     },
     "execution_count": 5,
     "metadata": {},
     "output_type": "execute_result"
    }
   ],
   "source": [
    "ko_temp_forecast_df.shape"
   ]
  },
  {
   "cell_type": "markdown",
   "metadata": {
    "id": "W1y726WHQABI"
   },
   "source": [
    "* O atributo de saída é Next_Tmax (a temperatura máxima no próximo dia). Vamos removê-lo do conjunto de dados para evitar contaminação durante o processo de normalização.\n"
   ]
  },
  {
   "cell_type": "code",
   "execution_count": 6,
   "metadata": {
    "id": "okDUeGTnSOTx"
   },
   "outputs": [],
   "source": [
    "next_tmax = ko_temp_forecast_df['Next_Tmax']\n",
    "ko_temp_forecast_df.drop('Next_Tmax', axis=1, inplace=True)"
   ]
  },
  {
   "cell_type": "markdown",
   "metadata": {
    "id": "8CUSXL9rSJV3"
   },
   "source": [
    "* Centralize e normalize cada atributo de entrada"
   ]
  },
  {
   "cell_type": "code",
   "execution_count": 7,
   "metadata": {
    "colab": {
     "base_uri": "https://localhost:8080/"
    },
    "id": "IyTwr9RCQOJa",
    "outputId": "3bf8715c-7fdd-43b6-abdd-b5f778f7cb8f"
   },
   "outputs": [
    {
     "data": {
      "text/plain": [
       "(7588, 22)"
      ]
     },
     "execution_count": 7,
     "metadata": {},
     "output_type": "execute_result"
    }
   ],
   "source": [
    "from sklearn import preprocessing\n",
    "\n",
    "prep_ko_temp_forecast_np = preprocessing.scale(ko_temp_forecast_df)\n",
    "prep_ko_temp_forecast_np.shape"
   ]
  },
  {
   "cell_type": "markdown",
   "metadata": {
    "id": "DCW3x_eajcS7"
   },
   "source": [
    "# Busca de hiperparâmetros e modelos utilizando:\n",
    "* 5 fold cross validation como técnica de resampling separando os dados em conjuntos de 70% de treino e 30% de teste;\n",
    "* RMSE como medida de erro;\n",
    "* Busca aleatória de hiperparametros (nos modelos aplicáveis)"
   ]
  },
  {
   "cell_type": "code",
   "execution_count": 34,
   "metadata": {
    "id": "2zVXNTlNkyXk"
   },
   "outputs": [],
   "source": [
    "from sklearn.metrics import mean_squared_error\n",
    "from sklearn.model_selection import cross_validate\n",
    "from sklearn.model_selection import ShuffleSplit\n",
    "from sklearn.model_selection import cross_val_score\n",
    "import numpy as np\n",
    "import random\n",
    "\n",
    "# Numero de vezes em que serão gerados valores aleatórios de hiperparâmetros\n",
    "HYPERPARAM_SAMPLING_N = 10\n",
    "\n",
    "def rmse_positive(model):\n",
    "    # Calcula o valor de RMSE no conjunto de dados pré processado dado o modelo\n",
    "    # especificado\n",
    "    scores = cross_val_score(model, \\\n",
    "                           prep_ko_temp_forecast_np,\n",
    "                           next_tmax, \\\n",
    "                           cv = ShuffleSplit(n_splits=5, test_size=0.3), \\\n",
    "                           scoring=('neg_root_mean_squared_error'))\n",
    "    return np.mean(- scores)"
   ]
  },
  {
   "cell_type": "markdown",
   "metadata": {
    "id": "3QnqsfecklqF"
   },
   "source": [
    "## Linear"
   ]
  },
  {
   "cell_type": "code",
   "execution_count": 32,
   "metadata": {
    "colab": {
     "base_uri": "https://localhost:8080/"
    },
    "id": "AKF1pFBwSfKs",
    "outputId": "093ec01b-37d1-4c14-e55b-2217a2293f95"
   },
   "outputs": [],
   "source": [
    "from sklearn.linear_model import LinearRegression\n",
    "\n",
    "traditional_lr_rmse = rmse_positive(LinearRegression())"
   ]
  },
  {
   "cell_type": "markdown",
   "metadata": {
    "id": "vzXd7B0Aq1OA"
   },
   "source": [
    "## Linear com regularização L2\n",
    "Sendo alpha escolhido com: 10 números aleatórios entre 10<sup>-3</sup> e 10<sup>3</sup>"
   ]
  },
  {
   "cell_type": "code",
   "execution_count": 39,
   "metadata": {
    "id": "L4ePqFvjksq1"
   },
   "outputs": [],
   "source": [
    "from sklearn.linear_model import Ridge\n",
    "\n",
    "#--------------------------------------------------------------------------\n",
    "# Default hyperparameters\n",
    "default_ridge_lr_RMSE = rmse_positive(Ridge())\n",
    "\n",
    "#--------------------------------------------------------------------------\n",
    "# Tunning hyperparams\n",
    "best_ridge_lr_RMSE = 10**3\n",
    "\n",
    "for i in range(HYPERPARAM_SAMPLING_N):\n",
    "    ridge = Ridge(alpha=random.uniform(10**-3, 10**3))\n",
    "    \n",
    "    mean_iter_scores = rmse_positive(ridge)\n",
    "\n",
    "    if best_ridge_lr_RMSE > mean_iter_scores:\n",
    "        best_ridge_lr_RMSE = mean_iter_scores  "
   ]
  },
  {
   "cell_type": "markdown",
   "metadata": {
    "id": "CK2D4OyqBwuF"
   },
   "source": [
    "## 2.3 Linear com regularização L1\n",
    "Sendo alpha escolhido com: 10 números aleatórios entre 10-3 e 103"
   ]
  },
  {
   "cell_type": "code",
   "execution_count": 16,
   "metadata": {
    "id": "t_MpmqCM7D4P"
   },
   "outputs": [],
   "source": [
    "from sklearn.linear_model import Lasso\n",
    "\n",
    "#--------------------------------------------------------------------------\n",
    "# Default hyperparameters\n",
    "default_lasso_lr_RMSE = rmse_positive(Lasso())\n",
    "\n",
    "#--------------------------------------------------------------------------\n",
    "# Tunning hyperparams\n",
    "\n",
    "best_lasso_lr_RMSE = 10**3\n",
    "\n",
    "for i in range(HYPERPARAM_SAMPLING_N):\n",
    "    lasso = Lasso(alpha=random.uniform(10**-3, 10**3))\n",
    "    \n",
    "    mean_iter_scores = rmse_positive(lasso)\n",
    "    \n",
    "    if best_lasso_lr_RMSE > mean_iter_scores:\n",
    "        best_lasso_lr_RMSE = mean_iter_scores  "
   ]
  },
  {
   "cell_type": "markdown",
   "metadata": {
    "id": "PyMj4s18FFAp"
   },
   "source": [
    "## 2.4 SVM Linear\n",
    "Sendo:\n",
    "* epsilon = 0.1 ou 0.3\n",
    "* 2 <sup>-5</sup> >= C >= 2 <sup>15</sup>\n"
   ]
  },
  {
   "cell_type": "code",
   "execution_count": 18,
   "metadata": {
    "colab": {
     "base_uri": "https://localhost:8080/",
     "height": 629
    },
    "id": "-5NKu4QyFD4R",
    "outputId": "d0da949e-1e68-44fb-b8bf-9f0ddd8e6a57"
   },
   "outputs": [],
   "source": [
    "from sklearn.svm import LinearSVR\n",
    "\n",
    "#--------------------------------------------------------------------------\n",
    "# Default hyperparameters\n",
    "default_svr_linear_RMSE = rmse_positive(LinearSVR())\n",
    "\n",
    "#--------------------------------------------------------------------------\n",
    "# Tunning hyperparams\n",
    "\n",
    "best_svr_linear_RMSE = 10**3\n",
    "\n",
    "for i in range(HYPERPARAM_SAMPLING_N):\n",
    "    svr = LinearSVR(C = random.uniform(2**-5, 2**15), \\\n",
    "                    epsilon = random.choice([0.1, 0.3]))\n",
    "    \n",
    "    mean_iter_scores = rmse_positive(svr)\n",
    "    \n",
    "    if best_svr_linear_RMSE > mean_iter_scores:\n",
    "        best_svr_linear_RMSE = mean_iter_scores  "
   ]
  },
  {
   "cell_type": "markdown",
   "metadata": {
    "id": "K5OcZRfzakMs"
   },
   "source": [
    "## 2.5 SVM com kernel RBF\n",
    "Sendo:\n",
    "* epsilon = 0.1 ou 0.3\n",
    "* 2 <sup>-5</sup> >= C >= 2 <sup>15</sup>\n",
    "* 2 <sup>-9</sup> >= gamma >= 2 <sup>3</sup>"
   ]
  },
  {
   "cell_type": "code",
   "execution_count": 21,
   "metadata": {
    "colab": {
     "base_uri": "https://localhost:8080/"
    },
    "id": "mfYQ1rNoHDN1",
    "outputId": "c00397b7-08d4-4c86-a4c2-88ac344ffdbb"
   },
   "outputs": [],
   "source": [
    "from sklearn.svm import SVR\n",
    "\n",
    "#--------------------------------------------------------------------------\n",
    "# Default hyperparameters\n",
    "default_svr_rbf_RMSE = rmse_positive(SVR(kernel='rbf'))\n",
    "\n",
    "#--------------------------------------------------------------------------\n",
    "# Tunning hyperparams\n",
    "\n",
    "best_svr_rbf_RMSE = 10**3\n",
    "\n",
    "for i in range(HYPERPARAM_SAMPLING_N):\n",
    "    \n",
    "    svr = SVR(epsilon = random.choice([0.1, 0.3]), \\\n",
    "              C = random.uniform(2**-5, 2**15), \\\n",
    "              gamma = random.uniform(2**-9, 2**3), \\\n",
    "              kernel='rbf')\n",
    "    \n",
    "    mean_iter_scores = rmse_positive(svr)\n",
    "    \n",
    "    if best_svr_rbf_RMSE > mean_iter_scores:\n",
    "        best_svr_rbf_RMSE = mean_iter_scores"
   ]
  },
  {
   "cell_type": "markdown",
   "metadata": {
    "id": "0xZlTH2ca-Jy"
   },
   "source": [
    "## 2.6 KNN\n",
    "Sendo K: 10 números aleatórios entre 1 e 1000"
   ]
  },
  {
   "cell_type": "code",
   "execution_count": 23,
   "metadata": {
    "colab": {
     "base_uri": "https://localhost:8080/"
    },
    "id": "rX30dV5Eafgy",
    "outputId": "deb744a0-7ce8-42f8-8cdf-d85770a1765c"
   },
   "outputs": [],
   "source": [
    "from sklearn.neighbors import KNeighborsRegressor\n",
    "\n",
    "#--------------------------------------------------------------------------\n",
    "# Default hyperparameters\n",
    "default_knn_regr_RMSE = rmse_positive(KNeighborsRegressor())\n",
    "\n",
    "#--------------------------------------------------------------------------\n",
    "# Tunning hyperparams\n",
    "\n",
    "best_knn_regr_RMSE = 10**3\n",
    "\n",
    "for i in range(HYPERPARAM_SAMPLING_N):\n",
    "    knn_regressor = KNeighborsRegressor(n_neighbors=random.randint(1, 1000))\n",
    "    \n",
    "    mean_iter_scores = rmse_positive(knn_regressor)\n",
    "    \n",
    "    if best_knn_regr_RMSE > mean_iter_scores:\n",
    "        best_knn_regr_RMSE = mean_iter_scores"
   ]
  },
  {
   "cell_type": "markdown",
   "metadata": {
    "id": "PPYtVjTzg6A0"
   },
   "source": [
    "## 2.7 MLP\n",
    "Neurônios na camada do meio: de 5 a 20, de três em três"
   ]
  },
  {
   "cell_type": "code",
   "execution_count": 24,
   "metadata": {
    "colab": {
     "base_uri": "https://localhost:8080/",
     "height": 418
    },
    "id": "IURKotCzgfVv",
    "outputId": "cc3c02d2-32e8-44fb-acf9-0fc9abe0ccae"
   },
   "outputs": [],
   "source": [
    "from sklearn.neural_network import MLPRegressor\n",
    "\n",
    "#--------------------------------------------------------------------------\n",
    "# Default hyperparameters\n",
    "default_mlp_regr_RMSE = rmse_positive(MLPRegressor())\n",
    "\n",
    "#--------------------------------------------------------------------------\n",
    "# Tunning hyperparams\n",
    "\n",
    "best_mlp_regr_RMSE = 10**3\n",
    "\n",
    "neurons = 5\n",
    "\n",
    "while neurons <= 20:\n",
    "    mlp_regressor = MLPRegressor(hidden_layer_sizes=neurons)\n",
    "    \n",
    "    mean_iter_scores = rmse_positive(mlp_regressor)\n",
    "    \n",
    "    if best_mlp_regr_RMSE > mean_iter_scores:\n",
    "        best_mlp_regr_RMSE = mean_iter_scores\n",
    "    \n",
    "    neurons +=3"
   ]
  },
  {
   "cell_type": "markdown",
   "metadata": {
    "id": "KTzB4idS7KzK"
   },
   "source": [
    "## 2.8 Arvore de decisão\n",
    "* Usando prunning com ccp_alpha sendo 10 números aleatórios entre 0.0 e 0.04.\n"
   ]
  },
  {
   "cell_type": "code",
   "execution_count": 26,
   "metadata": {},
   "outputs": [],
   "source": [
    "from sklearn.tree import DecisionTreeRegressor\n",
    "\n",
    "#--------------------------------------------------------------------------\n",
    "# Default hyperparameters\n",
    "default_dec_tree_RMSE = rmse_positive(DecisionTreeRegressor())\n",
    "\n",
    "#--------------------------------------------------------------------------\n",
    "# Tunning hyperparams\n",
    "\n",
    "best_dec_tree_RMSE = 10**3\n",
    "\n",
    "for i in range(HYPERPARAM_SAMPLING_N):\n",
    "    dec_tree_regressor = DecisionTreeRegressor(ccp_alpha=random. \\\n",
    "                                               uniform(0.0, 0.04))\n",
    "    \n",
    "    mean_iter_scores = rmse_positive(dec_tree_regressor)\n",
    "    \n",
    "    if best_dec_tree_RMSE > mean_iter_scores:\n",
    "        best_dec_tree_RMSE = mean_iter_scores"
   ]
  },
  {
   "cell_type": "markdown",
   "metadata": {
    "id": "Go_lWXJJ7QaN"
   },
   "source": [
    "## 2.9 Random Forest\n",
    "Usando todas as combinações dos valores abaixo.\n",
    "* n_estimators: use os valores: 10, 100 e 1000;\n",
    "* max_features: use os valores 5, 10, e 22."
   ]
  },
  {
   "cell_type": "code",
   "execution_count": 27,
   "metadata": {},
   "outputs": [],
   "source": [
    "from sklearn.ensemble import RandomForestRegressor\n",
    "\n",
    "#--------------------------------------------------------------------------\n",
    "# Default hyperparameters\n",
    "default_rand_for_RMSE = rmse_positive(RandomForestRegressor())\n",
    "\n",
    "#--------------------------------------------------------------------------\n",
    "# Tunning hyperparams\n",
    "\n",
    "best_rand_for_RMSE = 10**3\n",
    "n_estimators = [10, 100, 1000]\n",
    "max_features = [5, 10, 22]\n",
    "\n",
    "for estimator in n_estimators:\n",
    "    for max_feature in max_features:\n",
    "        dec_tree_regressor = RandomForestRegressor(n_estimators = estimator, \\\n",
    "                                                   max_features = max_feature)\n",
    "        mean_iter_scores = rmse_positive(dec_tree_regressor)\n",
    "        \n",
    "        if best_rand_for_RMSE > mean_iter_scores:\n",
    "            best_rand_for_RMSE = mean_iter_scores"
   ]
  },
  {
   "cell_type": "markdown",
   "metadata": {
    "id": "hH0Ins5d7ks4"
   },
   "source": [
    "## 2.10 GBM\n",
    "Selecionando 10 trinca aleatórias ente:\n",
    "* n_estimators: de 5 a 100;\n",
    "* learning_rate: de 0.01 a 0.3;\n",
    "* max_depth: 2 ou 3."
   ]
  },
  {
   "cell_type": "code",
   "execution_count": 28,
   "metadata": {},
   "outputs": [],
   "source": [
    "from sklearn.ensemble import GradientBoostingRegressor\n",
    "\n",
    "#--------------------------------------------------------------------------\n",
    "# Default hyperparameters\n",
    "default_gbm_RMSE = rmse_positive(GradientBoostingRegressor())\n",
    "\n",
    "#--------------------------------------------------------------------------\n",
    "# Tunning hyperparams\n",
    "\n",
    "best_gbm_RMSE = 10**3\n",
    "\n",
    "for i in range(HYPERPARAM_SAMPLING_N):\n",
    "    gbm = GradientBoostingRegressor(\\\n",
    "            max_depth = random.choice([2,3]), \\\n",
    "            learning_rate = random.uniform(0.01, 0.3), \\\n",
    "            n_estimators = random.randint(5, 100)\n",
    "            )\n",
    "    \n",
    "    mean_iter_scores = rmse_positive(gbm)\n",
    "    \n",
    "    if best_gbm_RMSE > mean_iter_scores:\n",
    "        best_gbm_RMSE = mean_iter_scores"
   ]
  },
  {
   "cell_type": "markdown",
   "metadata": {
    "id": "u-Aw_09t7ueH"
   },
   "source": [
    "# 3. Tabela final\n",
    "Tabela final com cada classificador, os valores do RMSE com valore default para os hiperparametros, e o valor do RMSE com o melhor valor dos hiperparametros."
   ]
  },
  {
   "cell_type": "code",
   "execution_count": 40,
   "metadata": {
    "id": "ZSoZ0nUckNaj"
   },
   "outputs": [],
   "source": [
    "columns = ['Regressor', 'RMSE default', 'RMSE hiperparametros']\n",
    "data = [\n",
    "        ['Linear',            traditional_lr_rmse,    'N/A'], \\\n",
    "        ['Ridge',             default_ridge_lr_RMSE,   best_ridge_lr_RMSE], \\\n",
    "        ['Lasso',             default_lasso_lr_RMSE,   best_lasso_lr_RMSE], \\\n",
    "        ['SVR Linear',        default_svr_linear_RMSE, best_svr_linear_RMSE], \\\n",
    "        ['SVR RBF',           default_svr_rbf_RMSE,    best_svr_rbf_RMSE], \\\n",
    "        ['KNN',               default_knn_regr_RMSE,   best_knn_regr_RMSE], \\\n",
    "        ['MLP',               default_mlp_regr_RMSE,   best_mlp_regr_RMSE], \\\n",
    "        ['Arvore de decisao', default_dec_tree_RMSE,   best_dec_tree_RMSE], \\\n",
    "        ['Random Forest',     default_rand_for_RMSE,   best_rand_for_RMSE], \\\n",
    "        ['GBM',               default_gbm_RMSE,        best_gbm_RMSE], \\\n",
    "       ]\n",
    "\n",
    "final_table = pd.DataFrame(data, columns = columns)"
   ]
  },
  {
   "cell_type": "code",
   "execution_count": 41,
   "metadata": {
    "colab": {
     "base_uri": "https://localhost:8080/",
     "height": 266
    },
    "id": "n6ZZipsb-UaS",
    "outputId": "55805c15-bbee-46b6-cc3f-f8ae21804150"
   },
   "outputs": [
    {
     "data": {
      "text/html": [
       "<div>\n",
       "<style scoped>\n",
       "    .dataframe tbody tr th:only-of-type {\n",
       "        vertical-align: middle;\n",
       "    }\n",
       "\n",
       "    .dataframe tbody tr th {\n",
       "        vertical-align: top;\n",
       "    }\n",
       "\n",
       "    .dataframe thead th {\n",
       "        text-align: right;\n",
       "    }\n",
       "</style>\n",
       "<table border=\"1\" class=\"dataframe\">\n",
       "  <thead>\n",
       "    <tr style=\"text-align: right;\">\n",
       "      <th></th>\n",
       "      <th>Regressor</th>\n",
       "      <th>RMSE default</th>\n",
       "      <th>RMSE hiperparametros</th>\n",
       "    </tr>\n",
       "  </thead>\n",
       "  <tbody>\n",
       "    <tr>\n",
       "      <th>0</th>\n",
       "      <td>Linear</td>\n",
       "      <td>1.458478</td>\n",
       "      <td>N/A</td>\n",
       "    </tr>\n",
       "    <tr>\n",
       "      <th>1</th>\n",
       "      <td>Ridge</td>\n",
       "      <td>1.449174</td>\n",
       "      <td>None</td>\n",
       "    </tr>\n",
       "    <tr>\n",
       "      <th>2</th>\n",
       "      <td>Lasso</td>\n",
       "      <td>1.988330</td>\n",
       "      <td>3.08591</td>\n",
       "    </tr>\n",
       "    <tr>\n",
       "      <th>3</th>\n",
       "      <td>SVR Linear</td>\n",
       "      <td>1.465918</td>\n",
       "      <td>1.946544</td>\n",
       "    </tr>\n",
       "    <tr>\n",
       "      <th>4</th>\n",
       "      <td>SVR RBF</td>\n",
       "      <td>1.183737</td>\n",
       "      <td>2.746445</td>\n",
       "    </tr>\n",
       "    <tr>\n",
       "      <th>5</th>\n",
       "      <td>KNN</td>\n",
       "      <td>1.275011</td>\n",
       "      <td>1.63229</td>\n",
       "    </tr>\n",
       "    <tr>\n",
       "      <th>6</th>\n",
       "      <td>MLP</td>\n",
       "      <td>1.280703</td>\n",
       "      <td>1.954181</td>\n",
       "    </tr>\n",
       "    <tr>\n",
       "      <th>7</th>\n",
       "      <td>Arvore de decisao</td>\n",
       "      <td>1.500880</td>\n",
       "      <td>1.407038</td>\n",
       "    </tr>\n",
       "    <tr>\n",
       "      <th>8</th>\n",
       "      <td>Random Forest</td>\n",
       "      <td>1.000110</td>\n",
       "      <td>0.940968</td>\n",
       "    </tr>\n",
       "    <tr>\n",
       "      <th>9</th>\n",
       "      <td>GBM</td>\n",
       "      <td>1.219926</td>\n",
       "      <td>1.095765</td>\n",
       "    </tr>\n",
       "  </tbody>\n",
       "</table>\n",
       "</div>"
      ],
      "text/plain": [
       "           Regressor  RMSE default RMSE hiperparametros\n",
       "0             Linear      1.458478                  N/A\n",
       "1              Ridge      1.449174                 None\n",
       "2              Lasso      1.988330              3.08591\n",
       "3         SVR Linear      1.465918             1.946544\n",
       "4            SVR RBF      1.183737             2.746445\n",
       "5                KNN      1.275011              1.63229\n",
       "6                MLP      1.280703             1.954181\n",
       "7  Arvore de decisao      1.500880             1.407038\n",
       "8      Random Forest      1.000110             0.940968\n",
       "9                GBM      1.219926             1.095765"
      ]
     },
     "execution_count": 41,
     "metadata": {},
     "output_type": "execute_result"
    }
   ],
   "source": [
    "final_table"
   ]
  },
  {
   "cell_type": "code",
   "execution_count": null,
   "metadata": {},
   "outputs": [],
   "source": []
  }
 ],
 "metadata": {
  "colab": {
   "collapsed_sections": [],
   "name": "exercicio2.ipynb",
   "provenance": []
  },
  "kernelspec": {
   "display_name": "Python 3",
   "language": "python",
   "name": "python3"
  },
  "language_info": {
   "codemirror_mode": {
    "name": "ipython",
    "version": 3
   },
   "file_extension": ".py",
   "mimetype": "text/x-python",
   "name": "python",
   "nbconvert_exporter": "python",
   "pygments_lexer": "ipython3",
   "version": "3.9.5"
  }
 },
 "nbformat": 4,
 "nbformat_minor": 4
}
