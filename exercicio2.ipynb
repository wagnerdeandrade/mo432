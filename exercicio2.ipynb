{
 "cells": [
  {
   "cell_type": "markdown",
   "metadata": {
    "id": "hltghrALPa3j"
   },
   "source": [
    "# 1. Pré processamento\n",
    "* Leia o arquivo Bias_correction_ucl.csv"
   ]
  },
  {
   "cell_type": "code",
   "execution_count": 25,
   "metadata": {
    "id": "ECGurZLNKFbP"
   },
   "outputs": [],
   "source": [
    "import pandas as pd\n",
    "import warnings\n",
    "\n",
    "warnings.filterwarnings('ignore')\n",
    "\n",
    "url = \"https://archive.ics.uci.edu/ml/machine-learning-databases/00514/Bias_correction_ucl.csv\"\n",
    "\n",
    "original_ko_temp_forecast_df = pd.read_csv(url)"
   ]
  },
  {
   "cell_type": "markdown",
   "metadata": {
    "id": "e8dfkCypPk96"
   },
   "source": [
    "* Remova a coluna \"Next_Tmin\".\n",
    "* Remova a coluna Date"
   ]
  },
  {
   "cell_type": "code",
   "execution_count": 26,
   "metadata": {
    "id": "Y5zmsRZKNaKa"
   },
   "outputs": [],
   "source": [
    "ko_temp_forecast_df = original_ko_temp_forecast_df.drop(['Next_Tmin', 'Date'], axis=1)"
   ]
  },
  {
   "cell_type": "markdown",
   "metadata": {
    "id": "gIYx_ClxRYvu"
   },
   "source": [
    "* Remova as linhas que tem valor faltante. Das 7752 linhas originais sobram 7588"
   ]
  },
  {
   "cell_type": "code",
   "execution_count": 27,
   "metadata": {
    "colab": {
     "base_uri": "https://localhost:8080/"
    },
    "id": "cKb0X7-aRLPD",
    "outputId": "cac0b0df-ac01-4b0b-b7a5-5ecc155de093"
   },
   "outputs": [
    {
     "data": {
      "text/plain": [
       "(7752, 23)"
      ]
     },
     "execution_count": 27,
     "metadata": {},
     "output_type": "execute_result"
    }
   ],
   "source": [
    "ko_temp_forecast_df.shape"
   ]
  },
  {
   "cell_type": "code",
   "execution_count": 28,
   "metadata": {
    "id": "_fpGHT7OQ-0g"
   },
   "outputs": [],
   "source": [
    "ko_temp_forecast_df.dropna(inplace=True)"
   ]
  },
  {
   "cell_type": "code",
   "execution_count": 29,
   "metadata": {
    "colab": {
     "base_uri": "https://localhost:8080/"
    },
    "id": "yLzKjdWkRRni",
    "outputId": "fa7abe8f-cb77-4c96-d7a8-cda9dc61199c"
   },
   "outputs": [
    {
     "data": {
      "text/plain": [
       "(7588, 23)"
      ]
     },
     "execution_count": 29,
     "metadata": {},
     "output_type": "execute_result"
    }
   ],
   "source": [
    "ko_temp_forecast_df.shape"
   ]
  },
  {
   "cell_type": "markdown",
   "metadata": {
    "id": "W1y726WHQABI"
   },
   "source": [
    "* O atributo de saída é Next_Tmax (a temperatura máxima no próximo dia). Vamos removê-lo do conjunto de dados para evitar contaminação durante o processo de normalização.\n"
   ]
  },
  {
   "cell_type": "code",
   "execution_count": 30,
   "metadata": {
    "id": "okDUeGTnSOTx"
   },
   "outputs": [],
   "source": [
    "next_tmax = ko_temp_forecast_df['Next_Tmax']\n",
    "ko_temp_forecast_df.drop('Next_Tmax', axis=1, inplace=True)"
   ]
  },
  {
   "cell_type": "markdown",
   "metadata": {
    "id": "8CUSXL9rSJV3"
   },
   "source": [
    "* Centralize e normalize cada atributo de entrada"
   ]
  },
  {
   "cell_type": "code",
   "execution_count": 31,
   "metadata": {
    "colab": {
     "base_uri": "https://localhost:8080/"
    },
    "id": "IyTwr9RCQOJa",
    "outputId": "3bf8715c-7fdd-43b6-abdd-b5f778f7cb8f"
   },
   "outputs": [
    {
     "data": {
      "text/plain": [
       "(7588, 22)"
      ]
     },
     "execution_count": 31,
     "metadata": {},
     "output_type": "execute_result"
    }
   ],
   "source": [
    "from sklearn import preprocessing\n",
    "\n",
    "prep_ko_temp_forecast_np = preprocessing.scale(ko_temp_forecast_df)\n",
    "prep_ko_temp_forecast_np.shape"
   ]
  },
  {
   "cell_type": "markdown",
   "metadata": {
    "id": "KFYMjWXvWeVs"
   },
   "source": [
    "#### Verificando visualmente o resultado do pré processamento comparando os dados originais com os pré processados"
   ]
  },
  {
   "cell_type": "code",
   "execution_count": 32,
   "metadata": {
    "colab": {
     "base_uri": "https://localhost:8080/"
    },
    "id": "3H8kw9ZhYRRN",
    "outputId": "135e590a-eaae-46b3-affd-40207440629f"
   },
   "outputs": [
    {
     "data": {
      "text/html": [
       "<div>\n",
       "<style scoped>\n",
       "    .dataframe tbody tr th:only-of-type {\n",
       "        vertical-align: middle;\n",
       "    }\n",
       "\n",
       "    .dataframe tbody tr th {\n",
       "        vertical-align: top;\n",
       "    }\n",
       "\n",
       "    .dataframe thead th {\n",
       "        text-align: right;\n",
       "    }\n",
       "</style>\n",
       "<table border=\"1\" class=\"dataframe\">\n",
       "  <thead>\n",
       "    <tr style=\"text-align: right;\">\n",
       "      <th></th>\n",
       "      <th>station</th>\n",
       "      <th>Date</th>\n",
       "      <th>Present_Tmax</th>\n",
       "      <th>Present_Tmin</th>\n",
       "      <th>LDAPS_RHmin</th>\n",
       "      <th>LDAPS_RHmax</th>\n",
       "      <th>LDAPS_Tmax_lapse</th>\n",
       "      <th>LDAPS_Tmin_lapse</th>\n",
       "      <th>LDAPS_WS</th>\n",
       "      <th>LDAPS_LH</th>\n",
       "      <th>...</th>\n",
       "      <th>LDAPS_PPT2</th>\n",
       "      <th>LDAPS_PPT3</th>\n",
       "      <th>LDAPS_PPT4</th>\n",
       "      <th>lat</th>\n",
       "      <th>lon</th>\n",
       "      <th>DEM</th>\n",
       "      <th>Slope</th>\n",
       "      <th>Solar radiation</th>\n",
       "      <th>Next_Tmax</th>\n",
       "      <th>Next_Tmin</th>\n",
       "    </tr>\n",
       "  </thead>\n",
       "  <tbody>\n",
       "    <tr>\n",
       "      <th>0</th>\n",
       "      <td>1.0</td>\n",
       "      <td>2013-06-30</td>\n",
       "      <td>28.7</td>\n",
       "      <td>21.4</td>\n",
       "      <td>58.255688</td>\n",
       "      <td>91.116364</td>\n",
       "      <td>28.074101</td>\n",
       "      <td>23.006936</td>\n",
       "      <td>6.818887</td>\n",
       "      <td>69.451805</td>\n",
       "      <td>...</td>\n",
       "      <td>0.000000</td>\n",
       "      <td>0.000000</td>\n",
       "      <td>0.000000</td>\n",
       "      <td>37.6046</td>\n",
       "      <td>126.991</td>\n",
       "      <td>212.3350</td>\n",
       "      <td>2.785000</td>\n",
       "      <td>5992.895996</td>\n",
       "      <td>29.1</td>\n",
       "      <td>21.2</td>\n",
       "    </tr>\n",
       "    <tr>\n",
       "      <th>1</th>\n",
       "      <td>2.0</td>\n",
       "      <td>2013-06-30</td>\n",
       "      <td>31.9</td>\n",
       "      <td>21.6</td>\n",
       "      <td>52.263397</td>\n",
       "      <td>90.604721</td>\n",
       "      <td>29.850689</td>\n",
       "      <td>24.035009</td>\n",
       "      <td>5.691890</td>\n",
       "      <td>51.937448</td>\n",
       "      <td>...</td>\n",
       "      <td>0.000000</td>\n",
       "      <td>0.000000</td>\n",
       "      <td>0.000000</td>\n",
       "      <td>37.6046</td>\n",
       "      <td>127.032</td>\n",
       "      <td>44.7624</td>\n",
       "      <td>0.514100</td>\n",
       "      <td>5869.312500</td>\n",
       "      <td>30.5</td>\n",
       "      <td>22.5</td>\n",
       "    </tr>\n",
       "    <tr>\n",
       "      <th>2</th>\n",
       "      <td>3.0</td>\n",
       "      <td>2013-06-30</td>\n",
       "      <td>31.6</td>\n",
       "      <td>23.3</td>\n",
       "      <td>48.690479</td>\n",
       "      <td>83.973587</td>\n",
       "      <td>30.091292</td>\n",
       "      <td>24.565633</td>\n",
       "      <td>6.138224</td>\n",
       "      <td>20.573050</td>\n",
       "      <td>...</td>\n",
       "      <td>0.000000</td>\n",
       "      <td>0.000000</td>\n",
       "      <td>0.000000</td>\n",
       "      <td>37.5776</td>\n",
       "      <td>127.058</td>\n",
       "      <td>33.3068</td>\n",
       "      <td>0.266100</td>\n",
       "      <td>5863.555664</td>\n",
       "      <td>31.1</td>\n",
       "      <td>23.9</td>\n",
       "    </tr>\n",
       "    <tr>\n",
       "      <th>3</th>\n",
       "      <td>4.0</td>\n",
       "      <td>2013-06-30</td>\n",
       "      <td>32.0</td>\n",
       "      <td>23.4</td>\n",
       "      <td>58.239788</td>\n",
       "      <td>96.483688</td>\n",
       "      <td>29.704629</td>\n",
       "      <td>23.326177</td>\n",
       "      <td>5.650050</td>\n",
       "      <td>65.727144</td>\n",
       "      <td>...</td>\n",
       "      <td>0.000000</td>\n",
       "      <td>0.000000</td>\n",
       "      <td>0.000000</td>\n",
       "      <td>37.6450</td>\n",
       "      <td>127.022</td>\n",
       "      <td>45.7160</td>\n",
       "      <td>2.534800</td>\n",
       "      <td>5856.964844</td>\n",
       "      <td>31.7</td>\n",
       "      <td>24.3</td>\n",
       "    </tr>\n",
       "    <tr>\n",
       "      <th>4</th>\n",
       "      <td>5.0</td>\n",
       "      <td>2013-06-30</td>\n",
       "      <td>31.4</td>\n",
       "      <td>21.9</td>\n",
       "      <td>56.174095</td>\n",
       "      <td>90.155128</td>\n",
       "      <td>29.113934</td>\n",
       "      <td>23.486480</td>\n",
       "      <td>5.735004</td>\n",
       "      <td>107.965535</td>\n",
       "      <td>...</td>\n",
       "      <td>0.000000</td>\n",
       "      <td>0.000000</td>\n",
       "      <td>0.000000</td>\n",
       "      <td>37.5507</td>\n",
       "      <td>127.135</td>\n",
       "      <td>35.0380</td>\n",
       "      <td>0.505500</td>\n",
       "      <td>5859.552246</td>\n",
       "      <td>31.2</td>\n",
       "      <td>22.5</td>\n",
       "    </tr>\n",
       "    <tr>\n",
       "      <th>...</th>\n",
       "      <td>...</td>\n",
       "      <td>...</td>\n",
       "      <td>...</td>\n",
       "      <td>...</td>\n",
       "      <td>...</td>\n",
       "      <td>...</td>\n",
       "      <td>...</td>\n",
       "      <td>...</td>\n",
       "      <td>...</td>\n",
       "      <td>...</td>\n",
       "      <td>...</td>\n",
       "      <td>...</td>\n",
       "      <td>...</td>\n",
       "      <td>...</td>\n",
       "      <td>...</td>\n",
       "      <td>...</td>\n",
       "      <td>...</td>\n",
       "      <td>...</td>\n",
       "      <td>...</td>\n",
       "      <td>...</td>\n",
       "      <td>...</td>\n",
       "    </tr>\n",
       "    <tr>\n",
       "      <th>7747</th>\n",
       "      <td>23.0</td>\n",
       "      <td>2017-08-30</td>\n",
       "      <td>23.3</td>\n",
       "      <td>17.1</td>\n",
       "      <td>26.741310</td>\n",
       "      <td>78.869858</td>\n",
       "      <td>26.352081</td>\n",
       "      <td>18.775678</td>\n",
       "      <td>6.148918</td>\n",
       "      <td>72.058294</td>\n",
       "      <td>...</td>\n",
       "      <td>0.000000</td>\n",
       "      <td>0.000000</td>\n",
       "      <td>0.000000</td>\n",
       "      <td>37.5372</td>\n",
       "      <td>126.891</td>\n",
       "      <td>15.5876</td>\n",
       "      <td>0.155400</td>\n",
       "      <td>4443.313965</td>\n",
       "      <td>28.3</td>\n",
       "      <td>18.1</td>\n",
       "    </tr>\n",
       "    <tr>\n",
       "      <th>7748</th>\n",
       "      <td>24.0</td>\n",
       "      <td>2017-08-30</td>\n",
       "      <td>23.3</td>\n",
       "      <td>17.7</td>\n",
       "      <td>24.040634</td>\n",
       "      <td>77.294975</td>\n",
       "      <td>27.010193</td>\n",
       "      <td>18.733519</td>\n",
       "      <td>6.542819</td>\n",
       "      <td>47.241457</td>\n",
       "      <td>...</td>\n",
       "      <td>0.000000</td>\n",
       "      <td>0.000000</td>\n",
       "      <td>0.000000</td>\n",
       "      <td>37.5237</td>\n",
       "      <td>126.909</td>\n",
       "      <td>17.2956</td>\n",
       "      <td>0.222300</td>\n",
       "      <td>4438.373535</td>\n",
       "      <td>28.6</td>\n",
       "      <td>18.8</td>\n",
       "    </tr>\n",
       "    <tr>\n",
       "      <th>7749</th>\n",
       "      <td>25.0</td>\n",
       "      <td>2017-08-30</td>\n",
       "      <td>23.2</td>\n",
       "      <td>17.4</td>\n",
       "      <td>22.933014</td>\n",
       "      <td>77.243744</td>\n",
       "      <td>27.939516</td>\n",
       "      <td>18.522965</td>\n",
       "      <td>7.289264</td>\n",
       "      <td>9.090034</td>\n",
       "      <td>...</td>\n",
       "      <td>0.000000</td>\n",
       "      <td>0.000000</td>\n",
       "      <td>0.000000</td>\n",
       "      <td>37.5237</td>\n",
       "      <td>126.970</td>\n",
       "      <td>19.5844</td>\n",
       "      <td>0.271300</td>\n",
       "      <td>4451.345215</td>\n",
       "      <td>27.8</td>\n",
       "      <td>17.4</td>\n",
       "    </tr>\n",
       "    <tr>\n",
       "      <th>7750</th>\n",
       "      <td>NaN</td>\n",
       "      <td>NaN</td>\n",
       "      <td>20.0</td>\n",
       "      <td>11.3</td>\n",
       "      <td>19.794666</td>\n",
       "      <td>58.936283</td>\n",
       "      <td>17.624954</td>\n",
       "      <td>14.272646</td>\n",
       "      <td>2.882580</td>\n",
       "      <td>-13.603212</td>\n",
       "      <td>...</td>\n",
       "      <td>0.000000</td>\n",
       "      <td>0.000000</td>\n",
       "      <td>0.000000</td>\n",
       "      <td>37.4562</td>\n",
       "      <td>126.826</td>\n",
       "      <td>12.3700</td>\n",
       "      <td>0.098475</td>\n",
       "      <td>4329.520508</td>\n",
       "      <td>17.4</td>\n",
       "      <td>11.3</td>\n",
       "    </tr>\n",
       "    <tr>\n",
       "      <th>7751</th>\n",
       "      <td>NaN</td>\n",
       "      <td>NaN</td>\n",
       "      <td>37.6</td>\n",
       "      <td>29.9</td>\n",
       "      <td>98.524734</td>\n",
       "      <td>100.000153</td>\n",
       "      <td>38.542255</td>\n",
       "      <td>29.619342</td>\n",
       "      <td>21.857621</td>\n",
       "      <td>213.414006</td>\n",
       "      <td>...</td>\n",
       "      <td>21.621661</td>\n",
       "      <td>15.841235</td>\n",
       "      <td>16.655469</td>\n",
       "      <td>37.6450</td>\n",
       "      <td>127.135</td>\n",
       "      <td>212.3350</td>\n",
       "      <td>5.178230</td>\n",
       "      <td>5992.895996</td>\n",
       "      <td>38.9</td>\n",
       "      <td>29.8</td>\n",
       "    </tr>\n",
       "  </tbody>\n",
       "</table>\n",
       "<p>7752 rows × 25 columns</p>\n",
       "</div>"
      ],
      "text/plain": [
       "      station        Date  Present_Tmax  Present_Tmin  LDAPS_RHmin  \\\n",
       "0         1.0  2013-06-30          28.7          21.4    58.255688   \n",
       "1         2.0  2013-06-30          31.9          21.6    52.263397   \n",
       "2         3.0  2013-06-30          31.6          23.3    48.690479   \n",
       "3         4.0  2013-06-30          32.0          23.4    58.239788   \n",
       "4         5.0  2013-06-30          31.4          21.9    56.174095   \n",
       "...       ...         ...           ...           ...          ...   \n",
       "7747     23.0  2017-08-30          23.3          17.1    26.741310   \n",
       "7748     24.0  2017-08-30          23.3          17.7    24.040634   \n",
       "7749     25.0  2017-08-30          23.2          17.4    22.933014   \n",
       "7750      NaN         NaN          20.0          11.3    19.794666   \n",
       "7751      NaN         NaN          37.6          29.9    98.524734   \n",
       "\n",
       "      LDAPS_RHmax  LDAPS_Tmax_lapse  LDAPS_Tmin_lapse   LDAPS_WS    LDAPS_LH  \\\n",
       "0       91.116364         28.074101         23.006936   6.818887   69.451805   \n",
       "1       90.604721         29.850689         24.035009   5.691890   51.937448   \n",
       "2       83.973587         30.091292         24.565633   6.138224   20.573050   \n",
       "3       96.483688         29.704629         23.326177   5.650050   65.727144   \n",
       "4       90.155128         29.113934         23.486480   5.735004  107.965535   \n",
       "...           ...               ...               ...        ...         ...   \n",
       "7747    78.869858         26.352081         18.775678   6.148918   72.058294   \n",
       "7748    77.294975         27.010193         18.733519   6.542819   47.241457   \n",
       "7749    77.243744         27.939516         18.522965   7.289264    9.090034   \n",
       "7750    58.936283         17.624954         14.272646   2.882580  -13.603212   \n",
       "7751   100.000153         38.542255         29.619342  21.857621  213.414006   \n",
       "\n",
       "      ...  LDAPS_PPT2  LDAPS_PPT3  LDAPS_PPT4      lat      lon       DEM  \\\n",
       "0     ...    0.000000    0.000000    0.000000  37.6046  126.991  212.3350   \n",
       "1     ...    0.000000    0.000000    0.000000  37.6046  127.032   44.7624   \n",
       "2     ...    0.000000    0.000000    0.000000  37.5776  127.058   33.3068   \n",
       "3     ...    0.000000    0.000000    0.000000  37.6450  127.022   45.7160   \n",
       "4     ...    0.000000    0.000000    0.000000  37.5507  127.135   35.0380   \n",
       "...   ...         ...         ...         ...      ...      ...       ...   \n",
       "7747  ...    0.000000    0.000000    0.000000  37.5372  126.891   15.5876   \n",
       "7748  ...    0.000000    0.000000    0.000000  37.5237  126.909   17.2956   \n",
       "7749  ...    0.000000    0.000000    0.000000  37.5237  126.970   19.5844   \n",
       "7750  ...    0.000000    0.000000    0.000000  37.4562  126.826   12.3700   \n",
       "7751  ...   21.621661   15.841235   16.655469  37.6450  127.135  212.3350   \n",
       "\n",
       "         Slope  Solar radiation  Next_Tmax  Next_Tmin  \n",
       "0     2.785000      5992.895996       29.1       21.2  \n",
       "1     0.514100      5869.312500       30.5       22.5  \n",
       "2     0.266100      5863.555664       31.1       23.9  \n",
       "3     2.534800      5856.964844       31.7       24.3  \n",
       "4     0.505500      5859.552246       31.2       22.5  \n",
       "...        ...              ...        ...        ...  \n",
       "7747  0.155400      4443.313965       28.3       18.1  \n",
       "7748  0.222300      4438.373535       28.6       18.8  \n",
       "7749  0.271300      4451.345215       27.8       17.4  \n",
       "7750  0.098475      4329.520508       17.4       11.3  \n",
       "7751  5.178230      5992.895996       38.9       29.8  \n",
       "\n",
       "[7752 rows x 25 columns]"
      ]
     },
     "execution_count": 32,
     "metadata": {},
     "output_type": "execute_result"
    }
   ],
   "source": [
    "original_ko_temp_forecast_df"
   ]
  },
  {
   "cell_type": "code",
   "execution_count": 33,
   "metadata": {
    "colab": {
     "base_uri": "https://localhost:8080/"
    },
    "id": "4QVrmViVSdLS",
    "outputId": "562a415c-7973-4e8f-d1a1-4b98d8ff39e3"
   },
   "outputs": [
    {
     "data": {
      "text/html": [
       "<div>\n",
       "<style scoped>\n",
       "    .dataframe tbody tr th:only-of-type {\n",
       "        vertical-align: middle;\n",
       "    }\n",
       "\n",
       "    .dataframe tbody tr th {\n",
       "        vertical-align: top;\n",
       "    }\n",
       "\n",
       "    .dataframe thead th {\n",
       "        text-align: right;\n",
       "    }\n",
       "</style>\n",
       "<table border=\"1\" class=\"dataframe\">\n",
       "  <thead>\n",
       "    <tr style=\"text-align: right;\">\n",
       "      <th></th>\n",
       "      <th>station</th>\n",
       "      <th>Present_Tmax</th>\n",
       "      <th>Present_Tmin</th>\n",
       "      <th>LDAPS_RHmin</th>\n",
       "      <th>LDAPS_RHmax</th>\n",
       "      <th>LDAPS_Tmax_lapse</th>\n",
       "      <th>LDAPS_Tmin_lapse</th>\n",
       "      <th>LDAPS_WS</th>\n",
       "      <th>LDAPS_LH</th>\n",
       "      <th>LDAPS_CC1</th>\n",
       "      <th>...</th>\n",
       "      <th>LDAPS_CC4</th>\n",
       "      <th>LDAPS_PPT1</th>\n",
       "      <th>LDAPS_PPT2</th>\n",
       "      <th>LDAPS_PPT3</th>\n",
       "      <th>LDAPS_PPT4</th>\n",
       "      <th>lat</th>\n",
       "      <th>lon</th>\n",
       "      <th>DEM</th>\n",
       "      <th>Slope</th>\n",
       "      <th>Solar radiation</th>\n",
       "    </tr>\n",
       "  </thead>\n",
       "  <tbody>\n",
       "    <tr>\n",
       "      <th>0</th>\n",
       "      <td>-1.664607</td>\n",
       "      <td>-0.353318</td>\n",
       "      <td>-0.748029</td>\n",
       "      <td>0.104660</td>\n",
       "      <td>0.382768</td>\n",
       "      <td>-0.525269</td>\n",
       "      <td>-0.215525</td>\n",
       "      <td>-0.126423</td>\n",
       "      <td>0.206603</td>\n",
       "      <td>-0.513123</td>\n",
       "      <td>...</td>\n",
       "      <td>-0.660441</td>\n",
       "      <td>-0.305589</td>\n",
       "      <td>-0.275777</td>\n",
       "      <td>-0.239969</td>\n",
       "      <td>-0.224971</td>\n",
       "      <td>1.186076</td>\n",
       "      <td>-0.005302</td>\n",
       "      <td>2.769091</td>\n",
       "      <td>1.111162</td>\n",
       "      <td>1.510565</td>\n",
       "    </tr>\n",
       "    <tr>\n",
       "      <th>1</th>\n",
       "      <td>-1.526052</td>\n",
       "      <td>0.725138</td>\n",
       "      <td>-0.664721</td>\n",
       "      <td>-0.305052</td>\n",
       "      <td>0.311697</td>\n",
       "      <td>0.078334</td>\n",
       "      <td>0.223368</td>\n",
       "      <td>-0.644133</td>\n",
       "      <td>-0.313359</td>\n",
       "      <td>-0.545304</td>\n",
       "      <td>...</td>\n",
       "      <td>-0.673074</td>\n",
       "      <td>-0.305589</td>\n",
       "      <td>-0.275777</td>\n",
       "      <td>-0.239969</td>\n",
       "      <td>-0.224971</td>\n",
       "      <td>1.186076</td>\n",
       "      <td>0.512280</td>\n",
       "      <td>-0.315828</td>\n",
       "      <td>-0.543220</td>\n",
       "      <td>1.222997</td>\n",
       "    </tr>\n",
       "    <tr>\n",
       "      <th>2</th>\n",
       "      <td>-1.387498</td>\n",
       "      <td>0.624033</td>\n",
       "      <td>0.043400</td>\n",
       "      <td>-0.549344</td>\n",
       "      <td>-0.609425</td>\n",
       "      <td>0.160080</td>\n",
       "      <td>0.449896</td>\n",
       "      <td>-0.439100</td>\n",
       "      <td>-1.244497</td>\n",
       "      <td>-0.606944</td>\n",
       "      <td>...</td>\n",
       "      <td>-0.616249</td>\n",
       "      <td>-0.305589</td>\n",
       "      <td>-0.275777</td>\n",
       "      <td>-0.239969</td>\n",
       "      <td>-0.224971</td>\n",
       "      <td>0.650626</td>\n",
       "      <td>0.840503</td>\n",
       "      <td>-0.526719</td>\n",
       "      <td>-0.723891</td>\n",
       "      <td>1.209602</td>\n",
       "    </tr>\n",
       "    <tr>\n",
       "      <th>3</th>\n",
       "      <td>-1.248943</td>\n",
       "      <td>0.758840</td>\n",
       "      <td>0.085054</td>\n",
       "      <td>0.103573</td>\n",
       "      <td>1.128335</td>\n",
       "      <td>0.028710</td>\n",
       "      <td>-0.079238</td>\n",
       "      <td>-0.663353</td>\n",
       "      <td>0.096026</td>\n",
       "      <td>-0.580143</td>\n",
       "      <td>...</td>\n",
       "      <td>-0.647336</td>\n",
       "      <td>-0.305589</td>\n",
       "      <td>-0.275777</td>\n",
       "      <td>-0.239969</td>\n",
       "      <td>-0.224971</td>\n",
       "      <td>1.987268</td>\n",
       "      <td>0.386040</td>\n",
       "      <td>-0.298272</td>\n",
       "      <td>0.928888</td>\n",
       "      <td>1.194265</td>\n",
       "    </tr>\n",
       "    <tr>\n",
       "      <th>4</th>\n",
       "      <td>-1.110389</td>\n",
       "      <td>0.556630</td>\n",
       "      <td>-0.539758</td>\n",
       "      <td>-0.037665</td>\n",
       "      <td>0.249244</td>\n",
       "      <td>-0.171981</td>\n",
       "      <td>-0.010803</td>\n",
       "      <td>-0.624327</td>\n",
       "      <td>1.349989</td>\n",
       "      <td>-0.827872</td>\n",
       "      <td>...</td>\n",
       "      <td>-0.506152</td>\n",
       "      <td>-0.305589</td>\n",
       "      <td>-0.275777</td>\n",
       "      <td>-0.239969</td>\n",
       "      <td>-0.224971</td>\n",
       "      <td>0.117159</td>\n",
       "      <td>1.812547</td>\n",
       "      <td>-0.494848</td>\n",
       "      <td>-0.549485</td>\n",
       "      <td>1.200286</td>\n",
       "    </tr>\n",
       "    <tr>\n",
       "      <th>...</th>\n",
       "      <td>...</td>\n",
       "      <td>...</td>\n",
       "      <td>...</td>\n",
       "      <td>...</td>\n",
       "      <td>...</td>\n",
       "      <td>...</td>\n",
       "      <td>...</td>\n",
       "      <td>...</td>\n",
       "      <td>...</td>\n",
       "      <td>...</td>\n",
       "      <td>...</td>\n",
       "      <td>...</td>\n",
       "      <td>...</td>\n",
       "      <td>...</td>\n",
       "      <td>...</td>\n",
       "      <td>...</td>\n",
       "      <td>...</td>\n",
       "      <td>...</td>\n",
       "      <td>...</td>\n",
       "      <td>...</td>\n",
       "      <td>...</td>\n",
       "    </tr>\n",
       "    <tr>\n",
       "      <th>7583</th>\n",
       "      <td>1.106481</td>\n",
       "      <td>-2.240616</td>\n",
       "      <td>-2.247578</td>\n",
       "      <td>-2.190405</td>\n",
       "      <td>-1.402898</td>\n",
       "      <td>-0.614083</td>\n",
       "      <td>-2.223667</td>\n",
       "      <td>-0.225479</td>\n",
       "      <td>-1.569844</td>\n",
       "      <td>-1.203497</td>\n",
       "      <td>...</td>\n",
       "      <td>-1.159890</td>\n",
       "      <td>-0.305589</td>\n",
       "      <td>-0.275777</td>\n",
       "      <td>-0.239969</td>\n",
       "      <td>-0.224971</td>\n",
       "      <td>0.117159</td>\n",
       "      <td>0.613271</td>\n",
       "      <td>-0.655747</td>\n",
       "      <td>-0.500966</td>\n",
       "      <td>-2.065599</td>\n",
       "    </tr>\n",
       "    <tr>\n",
       "      <th>7584</th>\n",
       "      <td>1.245036</td>\n",
       "      <td>-2.442826</td>\n",
       "      <td>-2.414195</td>\n",
       "      <td>-1.820788</td>\n",
       "      <td>-0.648815</td>\n",
       "      <td>-0.990460</td>\n",
       "      <td>-2.432415</td>\n",
       "      <td>-0.609132</td>\n",
       "      <td>0.583486</td>\n",
       "      <td>-1.151793</td>\n",
       "      <td>...</td>\n",
       "      <td>-1.107407</td>\n",
       "      <td>-0.305589</td>\n",
       "      <td>-0.275777</td>\n",
       "      <td>-0.239969</td>\n",
       "      <td>-0.224971</td>\n",
       "      <td>-0.686016</td>\n",
       "      <td>1.193973</td>\n",
       "      <td>-0.735482</td>\n",
       "      <td>-0.820711</td>\n",
       "      <td>-2.098689</td>\n",
       "    </tr>\n",
       "    <tr>\n",
       "      <th>7585</th>\n",
       "      <td>1.383590</td>\n",
       "      <td>-2.173212</td>\n",
       "      <td>-2.539157</td>\n",
       "      <td>-2.050081</td>\n",
       "      <td>-1.318376</td>\n",
       "      <td>-1.110333</td>\n",
       "      <td>-2.021883</td>\n",
       "      <td>-0.434188</td>\n",
       "      <td>0.283984</td>\n",
       "      <td>-1.290699</td>\n",
       "      <td>...</td>\n",
       "      <td>-1.177177</td>\n",
       "      <td>-0.305589</td>\n",
       "      <td>-0.275777</td>\n",
       "      <td>-0.239969</td>\n",
       "      <td>-0.224971</td>\n",
       "      <td>-0.150566</td>\n",
       "      <td>-1.267697</td>\n",
       "      <td>-0.852919</td>\n",
       "      <td>-0.804538</td>\n",
       "      <td>-2.095175</td>\n",
       "    </tr>\n",
       "    <tr>\n",
       "      <th>7586</th>\n",
       "      <td>1.522145</td>\n",
       "      <td>-2.173212</td>\n",
       "      <td>-2.289232</td>\n",
       "      <td>-2.234735</td>\n",
       "      <td>-1.537141</td>\n",
       "      <td>-0.886737</td>\n",
       "      <td>-2.039881</td>\n",
       "      <td>-0.253241</td>\n",
       "      <td>-0.452772</td>\n",
       "      <td>-1.268430</td>\n",
       "      <td>...</td>\n",
       "      <td>-1.177177</td>\n",
       "      <td>-0.305589</td>\n",
       "      <td>-0.275777</td>\n",
       "      <td>-0.239969</td>\n",
       "      <td>-0.224971</td>\n",
       "      <td>-0.418291</td>\n",
       "      <td>-1.040466</td>\n",
       "      <td>-0.821476</td>\n",
       "      <td>-0.755800</td>\n",
       "      <td>-2.106671</td>\n",
       "    </tr>\n",
       "    <tr>\n",
       "      <th>7587</th>\n",
       "      <td>1.660699</td>\n",
       "      <td>-2.206914</td>\n",
       "      <td>-2.414195</td>\n",
       "      <td>-2.310467</td>\n",
       "      <td>-1.544257</td>\n",
       "      <td>-0.570995</td>\n",
       "      <td>-2.129768</td>\n",
       "      <td>0.089654</td>\n",
       "      <td>-1.585402</td>\n",
       "      <td>-1.218554</td>\n",
       "      <td>...</td>\n",
       "      <td>-1.174034</td>\n",
       "      <td>-0.305589</td>\n",
       "      <td>-0.275777</td>\n",
       "      <td>-0.239969</td>\n",
       "      <td>-0.224971</td>\n",
       "      <td>-0.418291</td>\n",
       "      <td>-0.270405</td>\n",
       "      <td>-0.779341</td>\n",
       "      <td>-0.720103</td>\n",
       "      <td>-2.076487</td>\n",
       "    </tr>\n",
       "  </tbody>\n",
       "</table>\n",
       "<p>7588 rows × 22 columns</p>\n",
       "</div>"
      ],
      "text/plain": [
       "       station  Present_Tmax  Present_Tmin  LDAPS_RHmin  LDAPS_RHmax  \\\n",
       "0    -1.664607     -0.353318     -0.748029     0.104660     0.382768   \n",
       "1    -1.526052      0.725138     -0.664721    -0.305052     0.311697   \n",
       "2    -1.387498      0.624033      0.043400    -0.549344    -0.609425   \n",
       "3    -1.248943      0.758840      0.085054     0.103573     1.128335   \n",
       "4    -1.110389      0.556630     -0.539758    -0.037665     0.249244   \n",
       "...        ...           ...           ...          ...          ...   \n",
       "7583  1.106481     -2.240616     -2.247578    -2.190405    -1.402898   \n",
       "7584  1.245036     -2.442826     -2.414195    -1.820788    -0.648815   \n",
       "7585  1.383590     -2.173212     -2.539157    -2.050081    -1.318376   \n",
       "7586  1.522145     -2.173212     -2.289232    -2.234735    -1.537141   \n",
       "7587  1.660699     -2.206914     -2.414195    -2.310467    -1.544257   \n",
       "\n",
       "      LDAPS_Tmax_lapse  LDAPS_Tmin_lapse  LDAPS_WS  LDAPS_LH  LDAPS_CC1  ...  \\\n",
       "0            -0.525269         -0.215525 -0.126423  0.206603  -0.513123  ...   \n",
       "1             0.078334          0.223368 -0.644133 -0.313359  -0.545304  ...   \n",
       "2             0.160080          0.449896 -0.439100 -1.244497  -0.606944  ...   \n",
       "3             0.028710         -0.079238 -0.663353  0.096026  -0.580143  ...   \n",
       "4            -0.171981         -0.010803 -0.624327  1.349989  -0.827872  ...   \n",
       "...                ...               ...       ...       ...        ...  ...   \n",
       "7583         -0.614083         -2.223667 -0.225479 -1.569844  -1.203497  ...   \n",
       "7584         -0.990460         -2.432415 -0.609132  0.583486  -1.151793  ...   \n",
       "7585         -1.110333         -2.021883 -0.434188  0.283984  -1.290699  ...   \n",
       "7586         -0.886737         -2.039881 -0.253241 -0.452772  -1.268430  ...   \n",
       "7587         -0.570995         -2.129768  0.089654 -1.585402  -1.218554  ...   \n",
       "\n",
       "      LDAPS_CC4  LDAPS_PPT1  LDAPS_PPT2  LDAPS_PPT3  LDAPS_PPT4       lat  \\\n",
       "0     -0.660441   -0.305589   -0.275777   -0.239969   -0.224971  1.186076   \n",
       "1     -0.673074   -0.305589   -0.275777   -0.239969   -0.224971  1.186076   \n",
       "2     -0.616249   -0.305589   -0.275777   -0.239969   -0.224971  0.650626   \n",
       "3     -0.647336   -0.305589   -0.275777   -0.239969   -0.224971  1.987268   \n",
       "4     -0.506152   -0.305589   -0.275777   -0.239969   -0.224971  0.117159   \n",
       "...         ...         ...         ...         ...         ...       ...   \n",
       "7583  -1.159890   -0.305589   -0.275777   -0.239969   -0.224971  0.117159   \n",
       "7584  -1.107407   -0.305589   -0.275777   -0.239969   -0.224971 -0.686016   \n",
       "7585  -1.177177   -0.305589   -0.275777   -0.239969   -0.224971 -0.150566   \n",
       "7586  -1.177177   -0.305589   -0.275777   -0.239969   -0.224971 -0.418291   \n",
       "7587  -1.174034   -0.305589   -0.275777   -0.239969   -0.224971 -0.418291   \n",
       "\n",
       "           lon       DEM     Slope  Solar radiation  \n",
       "0    -0.005302  2.769091  1.111162         1.510565  \n",
       "1     0.512280 -0.315828 -0.543220         1.222997  \n",
       "2     0.840503 -0.526719 -0.723891         1.209602  \n",
       "3     0.386040 -0.298272  0.928888         1.194265  \n",
       "4     1.812547 -0.494848 -0.549485         1.200286  \n",
       "...        ...       ...       ...              ...  \n",
       "7583  0.613271 -0.655747 -0.500966        -2.065599  \n",
       "7584  1.193973 -0.735482 -0.820711        -2.098689  \n",
       "7585 -1.267697 -0.852919 -0.804538        -2.095175  \n",
       "7586 -1.040466 -0.821476 -0.755800        -2.106671  \n",
       "7587 -0.270405 -0.779341 -0.720103        -2.076487  \n",
       "\n",
       "[7588 rows x 22 columns]"
      ]
     },
     "execution_count": 33,
     "metadata": {},
     "output_type": "execute_result"
    }
   ],
   "source": [
    "prep_ko_temp_forecast_df = pd.DataFrame(data=prep_ko_temp_forecast_np, columns=ko_temp_forecast_df.columns)\n",
    "prep_ko_temp_forecast_df"
   ]
  },
  {
   "cell_type": "markdown",
   "metadata": {
    "id": "PERYmtOnjTbs"
   },
   "source": [
    "#### Aparentemente está ok, vamos então usar o conjunto nparray de predictors \"prep_ko_temp_forecast_np\" para a próxima fase pois o sklearn lida melhor com ele do que com pandas DataFrames."
   ]
  },
  {
   "cell_type": "markdown",
   "metadata": {
    "id": "DCW3x_eajcS7"
   },
   "source": [
    "# 2. Busca de hiperparâmetros e modelos utilizando:\n",
    "* 5 fold cross validation como técnica de resampling separando os dados em conjuntos de 70% de treino e 30% de teste;\n",
    "* RMSE como medida de erro;\n",
    "* Busca aleatória de hiperparametros (nos modelos aplicáveis)"
   ]
  },
  {
   "cell_type": "code",
   "execution_count": 64,
   "metadata": {
    "id": "2zVXNTlNkyXk"
   },
   "outputs": [],
   "source": [
    "from sklearn.metrics import mean_squared_error\n",
    "from sklearn.model_selection import cross_validate\n",
    "from sklearn.model_selection import ShuffleSplit\n",
    "from sklearn.model_selection import cross_val_score\n",
    "import numpy as np\n",
    "import random\n",
    "\n",
    "# Numero de vezes em que serão gerados valores aleatórios de hiperparâmetros\n",
    "HYPERPARAM_SAMPLING_N = 10\n",
    "\n",
    "def rmse_positive_mean(model):\n",
    "    # Calcula o valor de RMSE no conjunto de dados pré processado dado o modelo\n",
    "    # especificado\n",
    "    scores = cross_val_score(model, \\\n",
    "                           prep_ko_temp_forecast_np,\n",
    "                           next_tmax, \\\n",
    "                           cv = ShuffleSplit(n_splits=5, test_size=0.3), \\\n",
    "                           scoring=('neg_root_mean_squared_error'))\n",
    "    return np.mean(- scores)"
   ]
  },
  {
   "cell_type": "markdown",
   "metadata": {
    "id": "3QnqsfecklqF"
   },
   "source": [
    "## 2.1 Linear"
   ]
  },
  {
   "cell_type": "code",
   "execution_count": 65,
   "metadata": {
    "colab": {
     "base_uri": "https://localhost:8080/"
    },
    "id": "AKF1pFBwSfKs",
    "outputId": "093ec01b-37d1-4c14-e55b-2217a2293f95"
   },
   "outputs": [],
   "source": [
    "from sklearn.linear_model import LinearRegression\n",
    "\n",
    "traditional_lr_rmse = rmse_positive_mean(LinearRegression())"
   ]
  },
  {
   "cell_type": "markdown",
   "metadata": {
    "id": "vzXd7B0Aq1OA"
   },
   "source": [
    "## 2.2 Linear com regularização L2\n",
    "Sendo alpha escolhido com: 10 números aleatórios entre 10<sup>-3</sup> e 10<sup>3</sup>"
   ]
  },
  {
   "cell_type": "code",
   "execution_count": 67,
   "metadata": {
    "id": "L4ePqFvjksq1"
   },
   "outputs": [],
   "source": [
    "from sklearn.linear_model import Ridge\n",
    "\n",
    "#--------------------------------------------------------------------------\n",
    "# Default hyperparameters\n",
    "default_ridge_lr_RMSE = rmse_positive_mean(Ridge())\n",
    "\n",
    "#--------------------------------------------------------------------------\n",
    "# Tunning hyperparams\n",
    "best_ridge_lr_RMSE = 10**3\n",
    "\n",
    "for i in range(HYPERPARAM_SAMPLING_N):\n",
    "    ridge = Ridge(alpha=random.uniform(10**-3, 10**3))\n",
    "    \n",
    "    mean_iter_scores = rmse_positive_mean(ridge)\n",
    "\n",
    "    if best_ridge_lr_RMSE > mean_iter_scores:\n",
    "        best_ridge_lr_RMSE = mean_iter_scores  "
   ]
  },
  {
   "cell_type": "markdown",
   "metadata": {
    "id": "CK2D4OyqBwuF"
   },
   "source": [
    "## 2.3 Linear com regularização L1\n",
    "Sendo alpha escolhido com: 10 números aleatórios entre 10-3 e 103"
   ]
  },
  {
   "cell_type": "code",
   "execution_count": 68,
   "metadata": {
    "id": "t_MpmqCM7D4P"
   },
   "outputs": [],
   "source": [
    "from sklearn.linear_model import Lasso\n",
    "\n",
    "#--------------------------------------------------------------------------\n",
    "# Default hyperparameters\n",
    "default_lasso_lr_RMSE = rmse_positive_mean(Lasso())\n",
    "\n",
    "#--------------------------------------------------------------------------\n",
    "# Tunning hyperparams\n",
    "\n",
    "best_lasso_lr_RMSE = 10**3\n",
    "\n",
    "for i in range(HYPERPARAM_SAMPLING_N):\n",
    "    lasso = Lasso(alpha=random.uniform(10**-3, 10**3))\n",
    "    \n",
    "    mean_iter_scores = rmse_positive_mean(lasso)\n",
    "    \n",
    "    if best_lasso_lr_RMSE > mean_iter_scores:\n",
    "        best_lasso_lr_RMSE = mean_iter_scores  "
   ]
  },
  {
   "cell_type": "markdown",
   "metadata": {
    "id": "PyMj4s18FFAp"
   },
   "source": [
    "## 2.4 SVM Linear\n",
    "Sendo:\n",
    "* epsilon = 0.1 ou 0.3\n",
    "* 2 <sup>-5</sup> >= C >= 2 <sup>15</sup>\n"
   ]
  },
  {
   "cell_type": "code",
   "execution_count": 69,
   "metadata": {
    "colab": {
     "base_uri": "https://localhost:8080/",
     "height": 629
    },
    "id": "-5NKu4QyFD4R",
    "outputId": "d0da949e-1e68-44fb-b8bf-9f0ddd8e6a57"
   },
   "outputs": [],
   "source": [
    "from sklearn.svm import LinearSVR\n",
    "\n",
    "#--------------------------------------------------------------------------\n",
    "# Default hyperparameters\n",
    "default_svr_linear_RMSE = rmse_positive_mean(LinearSVR())\n",
    "\n",
    "#--------------------------------------------------------------------------\n",
    "# Tunning hyperparams\n",
    "\n",
    "best_svr_linear_RMSE = 10**3\n",
    "\n",
    "for i in range(HYPERPARAM_SAMPLING_N):\n",
    "    svr = LinearSVR(C = random.uniform(2**-5, 2**15), \\\n",
    "                    epsilon = random.choice([0.1, 0.3]))\n",
    "    \n",
    "    mean_iter_scores = rmse_positive_mean(svr)\n",
    "    \n",
    "    if best_svr_linear_RMSE > mean_iter_scores:\n",
    "        best_svr_linear_RMSE = mean_iter_scores  "
   ]
  },
  {
   "cell_type": "markdown",
   "metadata": {
    "id": "K5OcZRfzakMs"
   },
   "source": [
    "## 2.5 SVM com kernel RBF\n",
    "Sendo:\n",
    "* epsilon = 0.1 ou 0.3\n",
    "* 2 <sup>-5</sup> >= C >= 2 <sup>15</sup>\n",
    "* 2 <sup>-9</sup> >= gamma >= 2 <sup>3</sup>"
   ]
  },
  {
   "cell_type": "code",
   "execution_count": 70,
   "metadata": {
    "colab": {
     "base_uri": "https://localhost:8080/"
    },
    "id": "mfYQ1rNoHDN1",
    "outputId": "c00397b7-08d4-4c86-a4c2-88ac344ffdbb"
   },
   "outputs": [],
   "source": [
    "from sklearn.svm import SVR\n",
    "\n",
    "#--------------------------------------------------------------------------\n",
    "# Default hyperparameters\n",
    "default_svr_rbf_RMSE = rmse_positive_mean(SVR(kernel='rbf'))\n",
    "\n",
    "#--------------------------------------------------------------------------\n",
    "# Tunning hyperparams\n",
    "\n",
    "best_svr_rbf_RMSE = 10**3\n",
    "\n",
    "for i in range(HYPERPARAM_SAMPLING_N):\n",
    "    svr = SVR(epsilon = random.choice([0.1, 0.3]), \\\n",
    "              C = random.uniform(2**-5, 2**15), \\\n",
    "     M_SAMPLING_N):\n",
    "    svr = SVR(epsilon = random.choice([0.1, 0.3]), \\\n",
    "       \n",
    "           C = random.uniform(2**-5, 2**15), \\\n",
    "    \n",
    "      M_SAMPLING_N):\n",
    "    svr = SVR(epsilon =         om.choice([0.1, 0.3]), \\\n",
    "              C = random.uniform(2**-5, 2**15), \\\n",
    "              gamma = random.uniform(2**-9, 2**3), \\\n",
    "              kernel='rbf')mean_iter_scores = rmse_positive_mean(svr)\n",
    "\n",
    "  if best_svr_rbf_RMSE > mean_iter_scores:\n",
    "    best_svr_rbf_RMSE = mean_iter_scores"
   ]
  },
  {
   "cell_type": "markdown",
   "metadata": {
    "id": "0xZlTH2ca-Jy"
   },
   "source": [
    "## 2.6 KNN\n",
    "Sendo K: 10 números aleatórios entre 1 e 1000"
   ]
  },
  {
   "cell_type": "code",
   "execution_count": 71,
   "metadata": {
    "colab": {
     "base_uri": "https://localhost:8080/"
    },
    "id": "rX30dV5Eafgy",
    "outputId": "deb744a0-7ce8-42f8-8cdf-d85770a1765c"
   },
   "outputs": [],
   "source": [
    "from sklearn.neighbors import KNeighborsRegressor\n",
    "\n",
    "#--------------------------------------------------------------------------\n",
    "# Default hyperparameters\n",
    "default_knn_regr_RMSE = rmse_positive_mean(KNeighborsRegressor())\n",
    "\n",
    "#--------------------------------------------------------------------------\n",
    "# Tunning hyperparams\n",
    "\n",
    "best_knn_regr_RMSE = 10**3\n",
    "\n",
    "for i in range(HYPERPARAM_SAMPLING_N):\n",
    "    knn_regressor = KNeighborsRegressor(n_neighbors=random.randint(1, 1000))\n",
    "    \n",
    "    mean_iter_scores = rmse_positive_mean(knn_regressor)\n",
    "    \n",
    "    if best_knn_regr_RMSE > mean_iter_scores:\n",
    "        best_knn_regr_RMSE = mean_iter_scores"
   ]
  },
  {
   "cell_type": "markdown",
   "metadata": {
    "id": "PPYtVjTzg6A0"
   },
   "source": [
    "## 2.7 MLP\n",
    "Neurônios na camada do meio: de 5 a 20, de três em três"
   ]
  },
  {
   "cell_type": "code",
   "execution_count": 72,
   "metadata": {
    "colab": {
     "base_uri": "https://localhost:8080/",
     "height": 418
    },
    "id": "IURKotCzgfVv",
    "outputId": "cc3c02d2-32e8-44fb-acf9-0fc9abe0ccae"
   },
   "outputs": [],
   "source": [
    "from sklearn.neural_network import MLPRegressor\n",
    "\n",
    "#--------------------------------------------------------------------------\n",
    "# Default hyperparameters\n",
    "default_mlp_regr_RMSE = rmse_positive_mean(MLPRegressor())\n",
    "\n",
    "#--------------------------------------------------------------------------\n",
    "# Tunning hyperparams\n",
    "\n",
    "best_mlp_regr_RMSE = 10**3\n",
    "\n",
    "neurons_bag = random.sample(range(5, 20), 3)\n",
    "\n",
    "for neurons in neurons_bag:\n",
    "    mlp_regressor = MLPRegressor(hidden_layer_sizes=neurons)\n",
    "    \n",
    "    mean_iter_scores = rmse_positive_mean(mlp_regressor)\n",
    "    \n",
    "    if best_mlp_regr_RMSE > mean_iter_scores:\n",
    "        best_mlp_regr_RMSE = mean_iter_scores"
   ]
  },
  {
   "cell_type": "markdown",
   "metadata": {
    "id": "KTzB4idS7KzK"
   },
   "source": [
    "## 2.8 Arvore de decisão\n",
    "* Usando prunning com ccp_alpha sendo 10 números aleatórios entre 0.0 e 0.04.\n"
   ]
  },
  {
   "cell_type": "code",
   "execution_count": 74,
   "metadata": {},
   "outputs": [],
   "source": [
    "from sklearn.tree import DecisionTreeRegressor\n",
    "\n",
    "#--------------------------------------------------------------------------\n",
    "# Default hyperparameters\n",
    "default_dec_tree_RMSE = rmse_positive_mean(DecisionTreeRegressor())\n",
    "\n",
    "#--------------------------------------------------------------------------\n",
    "# Tunning hyperparams\n",
    "\n",
    "best_dec_tree_RMSE = 10**3\n",
    "\n",
    "for i in range(HYPERPARAM_SAMPLING_N):\n",
    "    dec_tree_regressor = DecisionTreeRegressor(ccp_alpha=random. \\\n",
    "                                               uniform(0.0, 0.04))\n",
    "    \n",
    "    mean_iter_scores = rmse_positive_mean(dec_tree_regressor)\n",
    "    \n",
    "    if best_dec_tree_RMSE > mean_iter_scores:\n",
    "        best_dec_tree_RMSE = mean_iter_scores"
   ]
  },
  {
   "cell_type": "markdown",
   "metadata": {
    "id": "Go_lWXJJ7QaN"
   },
   "source": [
    "## 2.9 Random Forest\n",
    "Usando todas as combinações dos valores abaixo.\n",
    "* n_estimators: use os valores: 10, 100 e 1000;\n",
    "* max_features: use os valores 5, 10, e 22."
   ]
  },
  {
   "cell_type": "code",
   "execution_count": 76,
   "metadata": {},
   "outputs": [],
   "source": [
    "from sklearn.ensemble import RandomForestRegressor\n",
    "\n",
    "#--------------------------------------------------------------------------\n",
    "# Default hyperparameters\n",
    "default_rand_for_RMSE = rmse_positive_mean(RandomForestRegressor())\n",
    "\n",
    "#--------------------------------------------------------------------------\n",
    "# Tunning hyperparams\n",
    "\n",
    "best_rand_for_RMSE = 10**3\n",
    "n_estimators = [10, 100, 1000]\n",
    "max_features = [5, 10, 22]\n",
    "\n",
    "for estimator in n_estimators:\n",
    "    for max_feature in max_features:\n",
    "        dec_tree_regressor = RandomForestRegressor(n_estimators = estimator, \\\n",
    "                                                   max_features = max_feature)\n",
    "        mean_iter_scores = rmse_positive_mean(dec_tree_regressor)\n",
    "        \n",
    "        if best_rand_for_RMSE > mean_iter_scores:\n",
    "            best_rand_for_RMSE = mean_iter_scores"
   ]
  },
  {
   "cell_type": "markdown",
   "metadata": {
    "id": "hH0Ins5d7ks4"
   },
   "source": [
    "## 2.10 GBM\n",
    "Selecionando 10 trinca aleatórias ente:\n",
    "* n_estimators: de 5 a 100;\n",
    "* learning_rate: de 0.01 a 0.3;\n",
    "* max_depth: 2 ou 3."
   ]
  },
  {
   "cell_type": "code",
   "execution_count": 77,
   "metadata": {},
   "outputs": [],
   "source": [
    "from sklearn.ensemble import GradientBoostingRegressor\n",
    "\n",
    "#--------------------------------------------------------------------------\n",
    "# Default hyperparameters\n",
    "default_gbm_RMSE = rmse_positive_mean(GradientBoostingRegressor())\n",
    "\n",
    "#--------------------------------------------------------------------------\n",
    "# Tunning hyperparams\n",
    "\n",
    "best_gbm_RMSE = 10**3\n",
    "\n",
    "for i in range(HYPERPARAM_SAMPLING_N):\n",
    "    gbm = GradientBoostingRegressor(\\\n",
    "            max_depth = random.choice([2,3]), \\\n",
    "            learning_rate = random.uniform(0.01, 0.3), \\\n",
    "            n_estimators = random.randint(5, 100)\n",
    "            )\n",
    "    \n",
    "    mean_iter_scores = rmse_positive_mean(gbm)\n",
    "    \n",
    "    if best_gbm_RMSE > mean_iter_scores:\n",
    "        best_gbm_RMSE = mean_iter_scores"
   ]
  },
  {
   "cell_type": "markdown",
   "metadata": {
    "id": "u-Aw_09t7ueH"
   },
   "source": [
    "# 3. Tabela final\n",
    "Tabela final com cada classificador, os valores do RMSE com valore default para os hiperparametros, e o valor do RMSE com o melhor valor dos hiperparametros."
   ]
  },
  {
   "cell_type": "code",
   "execution_count": 78,
   "metadata": {
    "id": "ZSoZ0nUckNaj"
   },
   "outputs": [],
   "source": [
    "columns = ['Regressor', 'RMSE default', 'RMSE hiperparametros']\n",
    "data = [\n",
    "        ['Linear',            traditional_lr_rmse,    'N/A'], \\\n",
    "        ['Ridge',             default_ridge_lr_RMSE,   best_ridge_lr_RMSE], \\\n",
    "        ['Lasso',             default_lasso_lr_RMSE,   best_lasso_lr_RMSE], \\\n",
    "        ['SVR Linear',        default_svr_linear_RMSE, best_svr_linear_RMSE], \\\n",
    "        ['SVR RBF',           default_svr_rbf_RMSE,    best_svr_rbf_RMSE], \\\n",
    "        ['KNN',               default_knn_regr_RMSE,   best_knn_regr_RMSE], \\\n",
    "        ['MLP',               default_mlp_regr_RMSE,   best_mlp_regr_RMSE], \\\n",
    "        ['Arvore de decisao', default_dec_tree_RMSE,   best_dec_tree_RMSE], \\\n",
    "        ['Random Forest',     default_rand_for_RMSE,   best_rand_for_RMSE], \\\n",
    "        ['GBM',               default_gbm_RMSE,        best_gbm_RMSE], \\\n",
    "       ]\n",
    "\n",
    "final_table = pd.DataFrame(data, columns = columns)"
   ]
  },
  {
   "cell_type": "code",
   "execution_count": 79,
   "metadata": {
    "colab": {
     "base_uri": "https://localhost:8080/",
     "height": 266
    },
    "id": "n6ZZipsb-UaS",
    "outputId": "55805c15-bbee-46b6-cc3f-f8ae21804150"
   },
   "outputs": [
    {
     "data": {
      "text/html": [
       "<div>\n",
       "<style scoped>\n",
       "    .dataframe tbody tr th:only-of-type {\n",
       "        vertical-align: middle;\n",
       "    }\n",
       "\n",
       "    .dataframe tbody tr th {\n",
       "        vertical-align: top;\n",
       "    }\n",
       "\n",
       "    .dataframe thead th {\n",
       "        text-align: right;\n",
       "    }\n",
       "</style>\n",
       "<table border=\"1\" class=\"dataframe\">\n",
       "  <thead>\n",
       "    <tr style=\"text-align: right;\">\n",
       "      <th></th>\n",
       "      <th>Regressor</th>\n",
       "      <th>RMSE default</th>\n",
       "      <th>RMSE hiperparametros</th>\n",
       "    </tr>\n",
       "  </thead>\n",
       "  <tbody>\n",
       "    <tr>\n",
       "      <th>0</th>\n",
       "      <td>Linear</td>\n",
       "      <td>1.474150</td>\n",
       "      <td>N/A</td>\n",
       "    </tr>\n",
       "    <tr>\n",
       "      <th>1</th>\n",
       "      <td>Ridge</td>\n",
       "      <td>1.450621</td>\n",
       "      <td>1.446913</td>\n",
       "    </tr>\n",
       "    <tr>\n",
       "      <th>2</th>\n",
       "      <td>Lasso</td>\n",
       "      <td>1.976832</td>\n",
       "      <td>3.079061</td>\n",
       "    </tr>\n",
       "    <tr>\n",
       "      <th>3</th>\n",
       "      <td>SVR Linear</td>\n",
       "      <td>1.478440</td>\n",
       "      <td>1.916002</td>\n",
       "    </tr>\n",
       "    <tr>\n",
       "      <th>4</th>\n",
       "      <td>SVR RBF</td>\n",
       "      <td>1.198466</td>\n",
       "      <td>3.044289</td>\n",
       "    </tr>\n",
       "    <tr>\n",
       "      <th>5</th>\n",
       "      <td>KNN</td>\n",
       "      <td>1.299580</td>\n",
       "      <td>1.463103</td>\n",
       "    </tr>\n",
       "    <tr>\n",
       "      <th>6</th>\n",
       "      <td>MLP</td>\n",
       "      <td>1.277103</td>\n",
       "      <td>1.93282</td>\n",
       "    </tr>\n",
       "    <tr>\n",
       "      <th>7</th>\n",
       "      <td>Arvore de decisao</td>\n",
       "      <td>1.500717</td>\n",
       "      <td>1.377106</td>\n",
       "    </tr>\n",
       "    <tr>\n",
       "      <th>8</th>\n",
       "      <td>Random Forest</td>\n",
       "      <td>1.008827</td>\n",
       "      <td>0.946616</td>\n",
       "    </tr>\n",
       "    <tr>\n",
       "      <th>9</th>\n",
       "      <td>GBM</td>\n",
       "      <td>1.208773</td>\n",
       "      <td>1.173307</td>\n",
       "    </tr>\n",
       "  </tbody>\n",
       "</table>\n",
       "</div>"
      ],
      "text/plain": [
       "           Regressor  RMSE default RMSE hiperparametros\n",
       "0             Linear      1.474150                  N/A\n",
       "1              Ridge      1.450621             1.446913\n",
       "2              Lasso      1.976832             3.079061\n",
       "3         SVR Linear      1.478440             1.916002\n",
       "4            SVR RBF      1.198466             3.044289\n",
       "5                KNN      1.299580             1.463103\n",
       "6                MLP      1.277103              1.93282\n",
       "7  Arvore de decisao      1.500717             1.377106\n",
       "8      Random Forest      1.008827             0.946616\n",
       "9                GBM      1.208773             1.173307"
      ]
     },
     "execution_count": 79,
     "metadata": {},
     "output_type": "execute_result"
    }
   ],
   "source": [
    "final_table"
   ]
  },
  {
   "cell_type": "code",
   "execution_count": null,
   "metadata": {
    "id": "wg_ZM4XS-V0r"
   },
   "outputs": [],
   "source": []
  }
 ],
 "metadata": {
  "colab": {
   "collapsed_sections": [],
   "name": "exercicio2.ipynb",
   "provenance": []
  },
  "kernelspec": {
   "display_name": "Python 3",
   "language": "python",
   "name": "python3"
  },
  "language_info": {
   "codemirror_mode": {
    "name": "ipython",
    "version": 3
   },
   "file_extension": ".py",
   "mimetype": "text/x-python",
   "name": "python",
   "nbconvert_exporter": "python",
   "pygments_lexer": "ipython3",
   "version": "3.9.5"
  }
 },
 "nbformat": 4,
 "nbformat_minor": 4
}
